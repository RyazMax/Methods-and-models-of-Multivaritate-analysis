{
 "cells": [
  {
   "cell_type": "code",
   "execution_count": 208,
   "metadata": {},
   "outputs": [],
   "source": [
    "import pandas as pd\n",
    "import sklearn as sk\n",
    "import scipy as sc\n",
    "import scipy.stats as stats\n",
    "import numpy as np\n",
    "import seaborn as sns"
   ]
  },
  {
   "cell_type": "code",
   "execution_count": 5,
   "metadata": {},
   "outputs": [
    {
     "ename": "ModuleNotFoundError",
     "evalue": "No module named 'bayesian'",
     "output_type": "error",
     "traceback": [
      "\u001b[0;31m---------------------------------------------------------------------------\u001b[0m",
      "\u001b[0;31mModuleNotFoundError\u001b[0m                       Traceback (most recent call last)",
      "\u001b[0;32m/tmp/ipykernel_82471/1315071406.py\u001b[0m in \u001b[0;36m<module>\u001b[0;34m\u001b[0m\n\u001b[0;32m----> 1\u001b[0;31m \u001b[0;32mfrom\u001b[0m \u001b[0mBAMT\u001b[0m\u001b[0;34m.\u001b[0m\u001b[0mbayesian\u001b[0m\u001b[0;34m.\u001b[0m\u001b[0mtrain_bn\u001b[0m \u001b[0;32mimport\u001b[0m \u001b[0mstructure_learning\u001b[0m\u001b[0;34m,\u001b[0m \u001b[0mparameter_learning\u001b[0m\u001b[0;34m\u001b[0m\u001b[0;34m\u001b[0m\u001b[0m\n\u001b[0m\u001b[1;32m      2\u001b[0m \u001b[0;32mfrom\u001b[0m \u001b[0mBAMT\u001b[0m\u001b[0;34m.\u001b[0m\u001b[0mpreprocess\u001b[0m\u001b[0;34m.\u001b[0m\u001b[0mdiscretization\u001b[0m \u001b[0;32mimport\u001b[0m \u001b[0mget_nodes_type\u001b[0m\u001b[0;34m,\u001b[0m \u001b[0mdiscretization\u001b[0m\u001b[0;34m,\u001b[0m \u001b[0mcode_categories\u001b[0m\u001b[0;34m,\u001b[0m \u001b[0mget_nodes_sign\u001b[0m\u001b[0;34m\u001b[0m\u001b[0;34m\u001b[0m\u001b[0m\n\u001b[1;32m      3\u001b[0m \u001b[0;32mfrom\u001b[0m \u001b[0mBAMT\u001b[0m\u001b[0;34m.\u001b[0m\u001b[0mbayesian\u001b[0m\u001b[0;34m.\u001b[0m\u001b[0msave_bn\u001b[0m \u001b[0;32mimport\u001b[0m \u001b[0msave_structure\u001b[0m\u001b[0;34m,\u001b[0m \u001b[0msave_params\u001b[0m\u001b[0;34m,\u001b[0m \u001b[0mread_structure\u001b[0m\u001b[0;34m,\u001b[0m \u001b[0mread_params\u001b[0m\u001b[0;34m\u001b[0m\u001b[0;34m\u001b[0m\u001b[0m\n\u001b[1;32m      4\u001b[0m \u001b[0;32mfrom\u001b[0m \u001b[0mBAMT\u001b[0m\u001b[0;34m.\u001b[0m\u001b[0mbayesian\u001b[0m\u001b[0;34m.\u001b[0m\u001b[0msampling\u001b[0m \u001b[0;32mimport\u001b[0m \u001b[0mgenerate_synthetics\u001b[0m\u001b[0;34m\u001b[0m\u001b[0;34m\u001b[0m\u001b[0m\n\u001b[1;32m      5\u001b[0m \u001b[0;32mfrom\u001b[0m \u001b[0mBAMT\u001b[0m\u001b[0;34m.\u001b[0m\u001b[0mexternal\u001b[0m\u001b[0;34m.\u001b[0m\u001b[0mlibpgm\u001b[0m\u001b[0;34m.\u001b[0m\u001b[0mhybayesiannetwork\u001b[0m \u001b[0;32mimport\u001b[0m \u001b[0mHyBayesianNetwork\u001b[0m\u001b[0;34m\u001b[0m\u001b[0;34m\u001b[0m\u001b[0m\n",
      "\u001b[0;32m~/itmo/MSA/src/BAMT/bayesian/train_bn.py\u001b[0m in \u001b[0;36m<module>\u001b[0;34m\u001b[0m\n\u001b[1;32m      9\u001b[0m \u001b[0;32mfrom\u001b[0m \u001b[0mpomegranate\u001b[0m \u001b[0;32mimport\u001b[0m \u001b[0mDiscreteDistribution\u001b[0m\u001b[0;34m,\u001b[0m \u001b[0mConditionalProbabilityTable\u001b[0m\u001b[0;34m\u001b[0m\u001b[0;34m\u001b[0m\u001b[0m\n\u001b[1;32m     10\u001b[0m \u001b[0;32mfrom\u001b[0m \u001b[0msklearn\u001b[0m \u001b[0;32mimport\u001b[0m \u001b[0mlinear_model\u001b[0m\u001b[0;34m\u001b[0m\u001b[0;34m\u001b[0m\u001b[0m\n\u001b[0;32m---> 11\u001b[0;31m \u001b[0;32mfrom\u001b[0m \u001b[0mbayesian\u001b[0m\u001b[0;34m.\u001b[0m\u001b[0mstructure_score\u001b[0m \u001b[0;32mimport\u001b[0m \u001b[0mMIG\u001b[0m\u001b[0;34m,\u001b[0m \u001b[0mLLG\u001b[0m\u001b[0;34m,\u001b[0m \u001b[0mBICG\u001b[0m\u001b[0;34m,\u001b[0m \u001b[0mAICG\u001b[0m\u001b[0;34m\u001b[0m\u001b[0;34m\u001b[0m\u001b[0m\n\u001b[0m\u001b[1;32m     12\u001b[0m \u001b[0;32mfrom\u001b[0m \u001b[0msklearn\u001b[0m\u001b[0;34m.\u001b[0m\u001b[0mmixture\u001b[0m \u001b[0;32mimport\u001b[0m \u001b[0mGaussianMixture\u001b[0m\u001b[0;34m\u001b[0m\u001b[0;34m\u001b[0m\u001b[0m\n\u001b[1;32m     13\u001b[0m \u001b[0;32mfrom\u001b[0m \u001b[0mbayesian\u001b[0m\u001b[0;34m.\u001b[0m\u001b[0mredef_HC\u001b[0m \u001b[0;32mimport\u001b[0m \u001b[0mhc\u001b[0m \u001b[0;32mas\u001b[0m \u001b[0mhc_method\u001b[0m\u001b[0;34m\u001b[0m\u001b[0;34m\u001b[0m\u001b[0m\n",
      "\u001b[0;31mModuleNotFoundError\u001b[0m: No module named 'bayesian'"
     ]
    }
   ],
   "source": [
    "from BAMT.bayesian.train_bn import structure_learning, parameter_learning\n",
    "from BAMT.preprocess.discretization import get_nodes_type, discretization, code_categories, get_nodes_sign\n",
    "from BAMT.bayesian.save_bn import save_structure, save_params, read_structure, read_params\n",
    "from BAMT.bayesian.sampling import generate_synthetics\n",
    "from BAMT.external.libpgm.hybayesiannetwork import HyBayesianNetwork\n",
    "from BAMT.visualization.visualization import draw_BN"
   ]
  },
  {
   "cell_type": "code",
   "execution_count": 4,
   "metadata": {},
   "outputs": [],
   "source": [
    "import BAMT.bayesian"
   ]
  },
  {
   "cell_type": "code",
   "execution_count": 56,
   "metadata": {},
   "outputs": [
    {
     "name": "stderr",
     "output_type": "stream",
     "text": [
      "/home/ryazmax/dls/venv/lib/python3.8/site-packages/IPython/core/interactiveshell.py:3444: DtypeWarning: Columns (15) have mixed types.Specify dtype option on import or set low_memory=False.\n",
      "  exec(code_obj, self.user_global_ns, self.user_ns)\n"
     ]
    },
    {
     "data": {
      "text/html": [
       "<div>\n",
       "<style scoped>\n",
       "    .dataframe tbody tr th:only-of-type {\n",
       "        vertical-align: middle;\n",
       "    }\n",
       "\n",
       "    .dataframe tbody tr th {\n",
       "        vertical-align: top;\n",
       "    }\n",
       "\n",
       "    .dataframe thead th {\n",
       "        text-align: right;\n",
       "    }\n",
       "</style>\n",
       "<table border=\"1\" class=\"dataframe\">\n",
       "  <thead>\n",
       "    <tr style=\"text-align: right;\">\n",
       "      <th></th>\n",
       "      <th>StationId</th>\n",
       "      <th>Datetime</th>\n",
       "      <th>PM2.5</th>\n",
       "      <th>PM10</th>\n",
       "      <th>NO</th>\n",
       "      <th>NO2</th>\n",
       "      <th>NOx</th>\n",
       "      <th>NH3</th>\n",
       "      <th>CO</th>\n",
       "      <th>SO2</th>\n",
       "      <th>O3</th>\n",
       "      <th>Benzene</th>\n",
       "      <th>Toluene</th>\n",
       "      <th>Xylene</th>\n",
       "      <th>AQI</th>\n",
       "      <th>AQI_Bucket</th>\n",
       "    </tr>\n",
       "  </thead>\n",
       "  <tbody>\n",
       "    <tr>\n",
       "      <th>0</th>\n",
       "      <td>AP001</td>\n",
       "      <td>2017-11-24 17:00:00</td>\n",
       "      <td>60.50</td>\n",
       "      <td>98.00</td>\n",
       "      <td>2.35</td>\n",
       "      <td>30.80</td>\n",
       "      <td>18.25</td>\n",
       "      <td>8.50</td>\n",
       "      <td>0.1</td>\n",
       "      <td>11.85</td>\n",
       "      <td>126.40</td>\n",
       "      <td>0.1</td>\n",
       "      <td>6.10</td>\n",
       "      <td>0.10</td>\n",
       "      <td>NaN</td>\n",
       "      <td>NaN</td>\n",
       "    </tr>\n",
       "    <tr>\n",
       "      <th>1</th>\n",
       "      <td>AP001</td>\n",
       "      <td>2017-11-24 18:00:00</td>\n",
       "      <td>65.50</td>\n",
       "      <td>111.25</td>\n",
       "      <td>2.70</td>\n",
       "      <td>24.20</td>\n",
       "      <td>15.07</td>\n",
       "      <td>9.77</td>\n",
       "      <td>0.1</td>\n",
       "      <td>13.17</td>\n",
       "      <td>117.12</td>\n",
       "      <td>0.1</td>\n",
       "      <td>6.25</td>\n",
       "      <td>0.15</td>\n",
       "      <td>NaN</td>\n",
       "      <td>NaN</td>\n",
       "    </tr>\n",
       "    <tr>\n",
       "      <th>2</th>\n",
       "      <td>AP001</td>\n",
       "      <td>2017-11-24 19:00:00</td>\n",
       "      <td>80.00</td>\n",
       "      <td>132.00</td>\n",
       "      <td>2.10</td>\n",
       "      <td>25.18</td>\n",
       "      <td>15.15</td>\n",
       "      <td>12.02</td>\n",
       "      <td>0.1</td>\n",
       "      <td>12.08</td>\n",
       "      <td>98.98</td>\n",
       "      <td>0.2</td>\n",
       "      <td>5.98</td>\n",
       "      <td>0.18</td>\n",
       "      <td>NaN</td>\n",
       "      <td>NaN</td>\n",
       "    </tr>\n",
       "    <tr>\n",
       "      <th>3</th>\n",
       "      <td>AP001</td>\n",
       "      <td>2017-11-24 20:00:00</td>\n",
       "      <td>81.50</td>\n",
       "      <td>133.25</td>\n",
       "      <td>1.95</td>\n",
       "      <td>16.25</td>\n",
       "      <td>10.23</td>\n",
       "      <td>11.58</td>\n",
       "      <td>0.1</td>\n",
       "      <td>10.47</td>\n",
       "      <td>112.20</td>\n",
       "      <td>0.2</td>\n",
       "      <td>6.72</td>\n",
       "      <td>0.10</td>\n",
       "      <td>NaN</td>\n",
       "      <td>NaN</td>\n",
       "    </tr>\n",
       "    <tr>\n",
       "      <th>4</th>\n",
       "      <td>AP001</td>\n",
       "      <td>2017-11-24 21:00:00</td>\n",
       "      <td>75.25</td>\n",
       "      <td>116.00</td>\n",
       "      <td>1.43</td>\n",
       "      <td>17.48</td>\n",
       "      <td>10.43</td>\n",
       "      <td>12.03</td>\n",
       "      <td>0.1</td>\n",
       "      <td>9.12</td>\n",
       "      <td>106.35</td>\n",
       "      <td>0.2</td>\n",
       "      <td>5.75</td>\n",
       "      <td>0.08</td>\n",
       "      <td>NaN</td>\n",
       "      <td>NaN</td>\n",
       "    </tr>\n",
       "  </tbody>\n",
       "</table>\n",
       "</div>"
      ],
      "text/plain": [
       "  StationId             Datetime  PM2.5    PM10    NO    NO2    NOx    NH3  \\\n",
       "0     AP001  2017-11-24 17:00:00  60.50   98.00  2.35  30.80  18.25   8.50   \n",
       "1     AP001  2017-11-24 18:00:00  65.50  111.25  2.70  24.20  15.07   9.77   \n",
       "2     AP001  2017-11-24 19:00:00  80.00  132.00  2.10  25.18  15.15  12.02   \n",
       "3     AP001  2017-11-24 20:00:00  81.50  133.25  1.95  16.25  10.23  11.58   \n",
       "4     AP001  2017-11-24 21:00:00  75.25  116.00  1.43  17.48  10.43  12.03   \n",
       "\n",
       "    CO    SO2      O3  Benzene  Toluene  Xylene  AQI AQI_Bucket  \n",
       "0  0.1  11.85  126.40      0.1     6.10    0.10  NaN        NaN  \n",
       "1  0.1  13.17  117.12      0.1     6.25    0.15  NaN        NaN  \n",
       "2  0.1  12.08   98.98      0.2     5.98    0.18  NaN        NaN  \n",
       "3  0.1  10.47  112.20      0.2     6.72    0.10  NaN        NaN  \n",
       "4  0.1   9.12  106.35      0.2     5.75    0.08  NaN        NaN  "
      ]
     },
     "execution_count": 56,
     "metadata": {},
     "output_type": "execute_result"
    }
   ],
   "source": [
    "df = pd.read_csv('../data/station_hour.csv')\n",
    "df.head()"
   ]
  },
  {
   "cell_type": "code",
   "execution_count": 57,
   "metadata": {},
   "outputs": [
    {
     "data": {
      "text/plain": [
       "10"
      ]
     },
     "execution_count": 57,
     "metadata": {},
     "output_type": "execute_result"
    }
   ],
   "source": [
    "features = ['StationId', 'Datetime', 'NO', 'CO', 'NO2', 'O3', 'NOx', 'Benzene', 'Toluene', 'AQI', 'PM2.5', 'NH3']\n",
    "len(features) - 2"
   ]
  },
  {
   "cell_type": "code",
   "execution_count": 58,
   "metadata": {},
   "outputs": [
    {
     "data": {
      "text/html": [
       "<div>\n",
       "<style scoped>\n",
       "    .dataframe tbody tr th:only-of-type {\n",
       "        vertical-align: middle;\n",
       "    }\n",
       "\n",
       "    .dataframe tbody tr th {\n",
       "        vertical-align: top;\n",
       "    }\n",
       "\n",
       "    .dataframe thead th {\n",
       "        text-align: right;\n",
       "    }\n",
       "</style>\n",
       "<table border=\"1\" class=\"dataframe\">\n",
       "  <thead>\n",
       "    <tr style=\"text-align: right;\">\n",
       "      <th></th>\n",
       "      <th>StationId</th>\n",
       "      <th>Datetime</th>\n",
       "      <th>NO</th>\n",
       "      <th>CO</th>\n",
       "      <th>NO2</th>\n",
       "      <th>O3</th>\n",
       "      <th>NOx</th>\n",
       "      <th>Benzene</th>\n",
       "      <th>Toluene</th>\n",
       "      <th>AQI</th>\n",
       "      <th>PM2.5</th>\n",
       "      <th>NH3</th>\n",
       "    </tr>\n",
       "  </thead>\n",
       "  <tbody>\n",
       "    <tr>\n",
       "      <th>16</th>\n",
       "      <td>AP001</td>\n",
       "      <td>2017-11-25 09:00:00</td>\n",
       "      <td>1.93</td>\n",
       "      <td>0.1</td>\n",
       "      <td>23.00</td>\n",
       "      <td>117.62</td>\n",
       "      <td>13.75</td>\n",
       "      <td>0.30</td>\n",
       "      <td>10.40</td>\n",
       "      <td>155.0</td>\n",
       "      <td>104.00</td>\n",
       "      <td>9.80</td>\n",
       "    </tr>\n",
       "    <tr>\n",
       "      <th>17</th>\n",
       "      <td>AP001</td>\n",
       "      <td>2017-11-25 10:00:00</td>\n",
       "      <td>1.33</td>\n",
       "      <td>0.1</td>\n",
       "      <td>16.25</td>\n",
       "      <td>136.23</td>\n",
       "      <td>9.75</td>\n",
       "      <td>0.28</td>\n",
       "      <td>7.10</td>\n",
       "      <td>159.0</td>\n",
       "      <td>94.50</td>\n",
       "      <td>9.65</td>\n",
       "    </tr>\n",
       "    <tr>\n",
       "      <th>18</th>\n",
       "      <td>AP001</td>\n",
       "      <td>2017-11-25 11:00:00</td>\n",
       "      <td>1.47</td>\n",
       "      <td>0.1</td>\n",
       "      <td>14.83</td>\n",
       "      <td>149.92</td>\n",
       "      <td>9.07</td>\n",
       "      <td>0.20</td>\n",
       "      <td>4.55</td>\n",
       "      <td>173.0</td>\n",
       "      <td>82.75</td>\n",
       "      <td>9.70</td>\n",
       "    </tr>\n",
       "    <tr>\n",
       "      <th>19</th>\n",
       "      <td>AP001</td>\n",
       "      <td>2017-11-25 12:00:00</td>\n",
       "      <td>5.30</td>\n",
       "      <td>0.1</td>\n",
       "      <td>21.15</td>\n",
       "      <td>156.80</td>\n",
       "      <td>15.53</td>\n",
       "      <td>0.20</td>\n",
       "      <td>4.00</td>\n",
       "      <td>184.0</td>\n",
       "      <td>79.00</td>\n",
       "      <td>9.40</td>\n",
       "    </tr>\n",
       "    <tr>\n",
       "      <th>21</th>\n",
       "      <td>AP001</td>\n",
       "      <td>2017-11-25 14:00:00</td>\n",
       "      <td>1.35</td>\n",
       "      <td>0.1</td>\n",
       "      <td>13.60</td>\n",
       "      <td>161.70</td>\n",
       "      <td>8.35</td>\n",
       "      <td>0.10</td>\n",
       "      <td>2.30</td>\n",
       "      <td>191.0</td>\n",
       "      <td>68.50</td>\n",
       "      <td>7.40</td>\n",
       "    </tr>\n",
       "  </tbody>\n",
       "</table>\n",
       "</div>"
      ],
      "text/plain": [
       "   StationId             Datetime    NO   CO    NO2      O3    NOx  Benzene  \\\n",
       "16     AP001  2017-11-25 09:00:00  1.93  0.1  23.00  117.62  13.75     0.30   \n",
       "17     AP001  2017-11-25 10:00:00  1.33  0.1  16.25  136.23   9.75     0.28   \n",
       "18     AP001  2017-11-25 11:00:00  1.47  0.1  14.83  149.92   9.07     0.20   \n",
       "19     AP001  2017-11-25 12:00:00  5.30  0.1  21.15  156.80  15.53     0.20   \n",
       "21     AP001  2017-11-25 14:00:00  1.35  0.1  13.60  161.70   8.35     0.10   \n",
       "\n",
       "    Toluene    AQI   PM2.5   NH3  \n",
       "16    10.40  155.0  104.00  9.80  \n",
       "17     7.10  159.0   94.50  9.65  \n",
       "18     4.55  173.0   82.75  9.70  \n",
       "19     4.00  184.0   79.00  9.40  \n",
       "21     2.30  191.0   68.50  7.40  "
      ]
     },
     "execution_count": 58,
     "metadata": {},
     "output_type": "execute_result"
    }
   ],
   "source": [
    "df = df[features].dropna()\n",
    "df.head()"
   ]
  },
  {
   "cell_type": "code",
   "execution_count": 59,
   "metadata": {},
   "outputs": [
    {
     "data": {
      "text/html": [
       "<div>\n",
       "<style scoped>\n",
       "    .dataframe tbody tr th:only-of-type {\n",
       "        vertical-align: middle;\n",
       "    }\n",
       "\n",
       "    .dataframe tbody tr th {\n",
       "        vertical-align: top;\n",
       "    }\n",
       "\n",
       "    .dataframe thead th {\n",
       "        text-align: right;\n",
       "    }\n",
       "</style>\n",
       "<table border=\"1\" class=\"dataframe\">\n",
       "  <thead>\n",
       "    <tr style=\"text-align: right;\">\n",
       "      <th></th>\n",
       "      <th>StationId</th>\n",
       "      <th>Datetime</th>\n",
       "      <th>NO</th>\n",
       "      <th>CO</th>\n",
       "      <th>NO2</th>\n",
       "      <th>O3</th>\n",
       "      <th>NOx</th>\n",
       "      <th>Benzene</th>\n",
       "      <th>Toluene</th>\n",
       "      <th>AQI</th>\n",
       "      <th>PM2.5</th>\n",
       "      <th>NH3</th>\n",
       "    </tr>\n",
       "  </thead>\n",
       "  <tbody>\n",
       "    <tr>\n",
       "      <th>0</th>\n",
       "      <td>AP001</td>\n",
       "      <td>2017-11-25 09:00:00</td>\n",
       "      <td>1.93</td>\n",
       "      <td>0.1</td>\n",
       "      <td>23.00</td>\n",
       "      <td>117.62</td>\n",
       "      <td>13.75</td>\n",
       "      <td>0.30</td>\n",
       "      <td>10.40</td>\n",
       "      <td>155.0</td>\n",
       "      <td>104.00</td>\n",
       "      <td>9.80</td>\n",
       "    </tr>\n",
       "    <tr>\n",
       "      <th>1</th>\n",
       "      <td>AP001</td>\n",
       "      <td>2017-11-25 10:00:00</td>\n",
       "      <td>1.33</td>\n",
       "      <td>0.1</td>\n",
       "      <td>16.25</td>\n",
       "      <td>136.23</td>\n",
       "      <td>9.75</td>\n",
       "      <td>0.28</td>\n",
       "      <td>7.10</td>\n",
       "      <td>159.0</td>\n",
       "      <td>94.50</td>\n",
       "      <td>9.65</td>\n",
       "    </tr>\n",
       "    <tr>\n",
       "      <th>2</th>\n",
       "      <td>AP001</td>\n",
       "      <td>2017-11-25 11:00:00</td>\n",
       "      <td>1.47</td>\n",
       "      <td>0.1</td>\n",
       "      <td>14.83</td>\n",
       "      <td>149.92</td>\n",
       "      <td>9.07</td>\n",
       "      <td>0.20</td>\n",
       "      <td>4.55</td>\n",
       "      <td>173.0</td>\n",
       "      <td>82.75</td>\n",
       "      <td>9.70</td>\n",
       "    </tr>\n",
       "    <tr>\n",
       "      <th>3</th>\n",
       "      <td>AP001</td>\n",
       "      <td>2017-11-25 12:00:00</td>\n",
       "      <td>5.30</td>\n",
       "      <td>0.1</td>\n",
       "      <td>21.15</td>\n",
       "      <td>156.80</td>\n",
       "      <td>15.53</td>\n",
       "      <td>0.20</td>\n",
       "      <td>4.00</td>\n",
       "      <td>184.0</td>\n",
       "      <td>79.00</td>\n",
       "      <td>9.40</td>\n",
       "    </tr>\n",
       "    <tr>\n",
       "      <th>4</th>\n",
       "      <td>AP001</td>\n",
       "      <td>2017-11-25 14:00:00</td>\n",
       "      <td>1.35</td>\n",
       "      <td>0.1</td>\n",
       "      <td>13.60</td>\n",
       "      <td>161.70</td>\n",
       "      <td>8.35</td>\n",
       "      <td>0.10</td>\n",
       "      <td>2.30</td>\n",
       "      <td>191.0</td>\n",
       "      <td>68.50</td>\n",
       "      <td>7.40</td>\n",
       "    </tr>\n",
       "  </tbody>\n",
       "</table>\n",
       "</div>"
      ],
      "text/plain": [
       "  StationId             Datetime    NO   CO    NO2      O3    NOx  Benzene  \\\n",
       "0     AP001  2017-11-25 09:00:00  1.93  0.1  23.00  117.62  13.75     0.30   \n",
       "1     AP001  2017-11-25 10:00:00  1.33  0.1  16.25  136.23   9.75     0.28   \n",
       "2     AP001  2017-11-25 11:00:00  1.47  0.1  14.83  149.92   9.07     0.20   \n",
       "3     AP001  2017-11-25 12:00:00  5.30  0.1  21.15  156.80  15.53     0.20   \n",
       "4     AP001  2017-11-25 14:00:00  1.35  0.1  13.60  161.70   8.35     0.10   \n",
       "\n",
       "   Toluene    AQI   PM2.5   NH3  \n",
       "0    10.40  155.0  104.00  9.80  \n",
       "1     7.10  159.0   94.50  9.65  \n",
       "2     4.55  173.0   82.75  9.70  \n",
       "3     4.00  184.0   79.00  9.40  \n",
       "4     2.30  191.0   68.50  7.40  "
      ]
     },
     "execution_count": 59,
     "metadata": {},
     "output_type": "execute_result"
    }
   ],
   "source": [
    "df.reset_index(drop=True, inplace=True)\n",
    "df.head()"
   ]
  },
  {
   "cell_type": "code",
   "execution_count": 60,
   "metadata": {},
   "outputs": [
    {
     "data": {
      "text/html": [
       "<div>\n",
       "<style scoped>\n",
       "    .dataframe tbody tr th:only-of-type {\n",
       "        vertical-align: middle;\n",
       "    }\n",
       "\n",
       "    .dataframe tbody tr th {\n",
       "        vertical-align: top;\n",
       "    }\n",
       "\n",
       "    .dataframe thead th {\n",
       "        text-align: right;\n",
       "    }\n",
       "</style>\n",
       "<table border=\"1\" class=\"dataframe\">\n",
       "  <thead>\n",
       "    <tr style=\"text-align: right;\">\n",
       "      <th></th>\n",
       "      <th>Datetime</th>\n",
       "      <th>NO</th>\n",
       "      <th>CO</th>\n",
       "      <th>NO2</th>\n",
       "      <th>O3</th>\n",
       "      <th>NOx</th>\n",
       "      <th>Benzene</th>\n",
       "      <th>Toluene</th>\n",
       "      <th>AQI</th>\n",
       "      <th>PM2.5</th>\n",
       "      <th>NH3</th>\n",
       "    </tr>\n",
       "  </thead>\n",
       "  <tbody>\n",
       "    <tr>\n",
       "      <th>0</th>\n",
       "      <td>2015-04-05 02:00:00</td>\n",
       "      <td>8.665</td>\n",
       "      <td>0.715</td>\n",
       "      <td>50.120</td>\n",
       "      <td>43.880</td>\n",
       "      <td>56.605</td>\n",
       "      <td>2.245</td>\n",
       "      <td>8.720</td>\n",
       "      <td>269.0</td>\n",
       "      <td>64.315</td>\n",
       "      <td>36.710</td>\n",
       "    </tr>\n",
       "    <tr>\n",
       "      <th>1</th>\n",
       "      <td>2015-04-05 03:00:00</td>\n",
       "      <td>11.000</td>\n",
       "      <td>0.875</td>\n",
       "      <td>50.735</td>\n",
       "      <td>44.930</td>\n",
       "      <td>62.195</td>\n",
       "      <td>2.705</td>\n",
       "      <td>11.130</td>\n",
       "      <td>248.5</td>\n",
       "      <td>67.415</td>\n",
       "      <td>34.555</td>\n",
       "    </tr>\n",
       "    <tr>\n",
       "      <th>2</th>\n",
       "      <td>2015-04-05 04:00:00</td>\n",
       "      <td>8.565</td>\n",
       "      <td>0.955</td>\n",
       "      <td>45.135</td>\n",
       "      <td>64.470</td>\n",
       "      <td>53.585</td>\n",
       "      <td>3.290</td>\n",
       "      <td>13.935</td>\n",
       "      <td>251.0</td>\n",
       "      <td>59.835</td>\n",
       "      <td>36.360</td>\n",
       "    </tr>\n",
       "    <tr>\n",
       "      <th>3</th>\n",
       "      <td>2015-04-05 05:00:00</td>\n",
       "      <td>7.680</td>\n",
       "      <td>0.795</td>\n",
       "      <td>35.390</td>\n",
       "      <td>49.535</td>\n",
       "      <td>42.720</td>\n",
       "      <td>4.075</td>\n",
       "      <td>18.015</td>\n",
       "      <td>253.5</td>\n",
       "      <td>74.330</td>\n",
       "      <td>31.680</td>\n",
       "    </tr>\n",
       "    <tr>\n",
       "      <th>4</th>\n",
       "      <td>2015-04-05 06:00:00</td>\n",
       "      <td>8.410</td>\n",
       "      <td>1.215</td>\n",
       "      <td>35.815</td>\n",
       "      <td>46.155</td>\n",
       "      <td>43.375</td>\n",
       "      <td>4.895</td>\n",
       "      <td>15.110</td>\n",
       "      <td>256.5</td>\n",
       "      <td>82.000</td>\n",
       "      <td>33.530</td>\n",
       "    </tr>\n",
       "  </tbody>\n",
       "</table>\n",
       "</div>"
      ],
      "text/plain": [
       "              Datetime      NO     CO     NO2      O3     NOx  Benzene  \\\n",
       "0  2015-04-05 02:00:00   8.665  0.715  50.120  43.880  56.605    2.245   \n",
       "1  2015-04-05 03:00:00  11.000  0.875  50.735  44.930  62.195    2.705   \n",
       "2  2015-04-05 04:00:00   8.565  0.955  45.135  64.470  53.585    3.290   \n",
       "3  2015-04-05 05:00:00   7.680  0.795  35.390  49.535  42.720    4.075   \n",
       "4  2015-04-05 06:00:00   8.410  1.215  35.815  46.155  43.375    4.895   \n",
       "\n",
       "   Toluene    AQI   PM2.5     NH3  \n",
       "0    8.720  269.0  64.315  36.710  \n",
       "1   11.130  248.5  67.415  34.555  \n",
       "2   13.935  251.0  59.835  36.360  \n",
       "3   18.015  253.5  74.330  31.680  \n",
       "4   15.110  256.5  82.000  33.530  "
      ]
     },
     "execution_count": 60,
     "metadata": {},
     "output_type": "execute_result"
    }
   ],
   "source": [
    "df = df.groupby('Datetime', as_index=False).mean()\n",
    "df.head()"
   ]
  },
  {
   "cell_type": "code",
   "execution_count": 61,
   "metadata": {},
   "outputs": [],
   "source": [
    "df.to_csv('../data/lw3.csv')"
   ]
  },
  {
   "cell_type": "code",
   "execution_count": 62,
   "metadata": {},
   "outputs": [
    {
     "data": {
      "text/html": [
       "<div>\n",
       "<style scoped>\n",
       "    .dataframe tbody tr th:only-of-type {\n",
       "        vertical-align: middle;\n",
       "    }\n",
       "\n",
       "    .dataframe tbody tr th {\n",
       "        vertical-align: top;\n",
       "    }\n",
       "\n",
       "    .dataframe thead th {\n",
       "        text-align: right;\n",
       "    }\n",
       "</style>\n",
       "<table border=\"1\" class=\"dataframe\">\n",
       "  <thead>\n",
       "    <tr style=\"text-align: right;\">\n",
       "      <th></th>\n",
       "      <th>Datetime</th>\n",
       "      <th>NO</th>\n",
       "      <th>CO</th>\n",
       "      <th>NO2</th>\n",
       "      <th>O3</th>\n",
       "      <th>NOx</th>\n",
       "      <th>Benzene</th>\n",
       "      <th>Toluene</th>\n",
       "      <th>AQI</th>\n",
       "      <th>PM2.5</th>\n",
       "      <th>NH3</th>\n",
       "    </tr>\n",
       "  </thead>\n",
       "  <tbody>\n",
       "    <tr>\n",
       "      <th>0</th>\n",
       "      <td>2015-04-05 02:00:00</td>\n",
       "      <td>8.665</td>\n",
       "      <td>0.715</td>\n",
       "      <td>50.120</td>\n",
       "      <td>43.880</td>\n",
       "      <td>56.605</td>\n",
       "      <td>2.245</td>\n",
       "      <td>8.720</td>\n",
       "      <td>269.0</td>\n",
       "      <td>64.315</td>\n",
       "      <td>36.710</td>\n",
       "    </tr>\n",
       "    <tr>\n",
       "      <th>1</th>\n",
       "      <td>2015-04-05 03:00:00</td>\n",
       "      <td>11.000</td>\n",
       "      <td>0.875</td>\n",
       "      <td>50.735</td>\n",
       "      <td>44.930</td>\n",
       "      <td>62.195</td>\n",
       "      <td>2.705</td>\n",
       "      <td>11.130</td>\n",
       "      <td>248.5</td>\n",
       "      <td>67.415</td>\n",
       "      <td>34.555</td>\n",
       "    </tr>\n",
       "    <tr>\n",
       "      <th>2</th>\n",
       "      <td>2015-04-05 04:00:00</td>\n",
       "      <td>8.565</td>\n",
       "      <td>0.955</td>\n",
       "      <td>45.135</td>\n",
       "      <td>64.470</td>\n",
       "      <td>53.585</td>\n",
       "      <td>3.290</td>\n",
       "      <td>13.935</td>\n",
       "      <td>251.0</td>\n",
       "      <td>59.835</td>\n",
       "      <td>36.360</td>\n",
       "    </tr>\n",
       "    <tr>\n",
       "      <th>3</th>\n",
       "      <td>2015-04-05 05:00:00</td>\n",
       "      <td>7.680</td>\n",
       "      <td>0.795</td>\n",
       "      <td>35.390</td>\n",
       "      <td>49.535</td>\n",
       "      <td>42.720</td>\n",
       "      <td>4.075</td>\n",
       "      <td>18.015</td>\n",
       "      <td>253.5</td>\n",
       "      <td>74.330</td>\n",
       "      <td>31.680</td>\n",
       "    </tr>\n",
       "    <tr>\n",
       "      <th>4</th>\n",
       "      <td>2015-04-05 06:00:00</td>\n",
       "      <td>8.410</td>\n",
       "      <td>1.215</td>\n",
       "      <td>35.815</td>\n",
       "      <td>46.155</td>\n",
       "      <td>43.375</td>\n",
       "      <td>4.895</td>\n",
       "      <td>15.110</td>\n",
       "      <td>256.5</td>\n",
       "      <td>82.000</td>\n",
       "      <td>33.530</td>\n",
       "    </tr>\n",
       "  </tbody>\n",
       "</table>\n",
       "</div>"
      ],
      "text/plain": [
       "              Datetime      NO     CO     NO2      O3     NOx  Benzene  \\\n",
       "0  2015-04-05 02:00:00   8.665  0.715  50.120  43.880  56.605    2.245   \n",
       "1  2015-04-05 03:00:00  11.000  0.875  50.735  44.930  62.195    2.705   \n",
       "2  2015-04-05 04:00:00   8.565  0.955  45.135  64.470  53.585    3.290   \n",
       "3  2015-04-05 05:00:00   7.680  0.795  35.390  49.535  42.720    4.075   \n",
       "4  2015-04-05 06:00:00   8.410  1.215  35.815  46.155  43.375    4.895   \n",
       "\n",
       "   Toluene    AQI   PM2.5     NH3  \n",
       "0    8.720  269.0  64.315  36.710  \n",
       "1   11.130  248.5  67.415  34.555  \n",
       "2   13.935  251.0  59.835  36.360  \n",
       "3   18.015  253.5  74.330  31.680  \n",
       "4   15.110  256.5  82.000  33.530  "
      ]
     },
     "execution_count": 62,
     "metadata": {},
     "output_type": "execute_result"
    }
   ],
   "source": [
    "df = pd.read_csv('../data/lw3.csv')\n",
    "df.drop('Unnamed: 0', axis=1, inplace=True)\n",
    "df.head()"
   ]
  },
  {
   "cell_type": "code",
   "execution_count": 63,
   "metadata": {},
   "outputs": [
    {
     "data": {
      "text/plain": [
       "['NO', 'CO', 'NO2', 'O3', 'NOx', 'Benzene', 'Toluene', 'AQI', 'PM2.5', 'NH3']"
      ]
     },
     "execution_count": 63,
     "metadata": {},
     "output_type": "execute_result"
    }
   ],
   "source": [
    "continues_fields = features[2:]\n",
    "continues_fields"
   ]
  },
  {
   "cell_type": "code",
   "execution_count": 64,
   "metadata": {},
   "outputs": [],
   "source": [
    "from scipy.stats import zscore\n",
    "\n",
    "z_scores = zscore(df[continues_fields])\n",
    "# calculate z-scores of `df`\n",
    "\n",
    "abs_z_scores = np.abs(z_scores)\n",
    "filtered_entries = (abs_z_scores < 3).all(axis=1)\n",
    "df_no_outliers = df[filtered_entries]"
   ]
  },
  {
   "cell_type": "code",
   "execution_count": 65,
   "metadata": {},
   "outputs": [],
   "source": [
    "df_no_outliers.to_csv('../data/lw3_no_outliers.csv')"
   ]
  },
  {
   "cell_type": "code",
   "execution_count": 66,
   "metadata": {},
   "outputs": [
    {
     "data": {
      "text/html": [
       "<div>\n",
       "<style scoped>\n",
       "    .dataframe tbody tr th:only-of-type {\n",
       "        vertical-align: middle;\n",
       "    }\n",
       "\n",
       "    .dataframe tbody tr th {\n",
       "        vertical-align: top;\n",
       "    }\n",
       "\n",
       "    .dataframe thead th {\n",
       "        text-align: right;\n",
       "    }\n",
       "</style>\n",
       "<table border=\"1\" class=\"dataframe\">\n",
       "  <thead>\n",
       "    <tr style=\"text-align: right;\">\n",
       "      <th></th>\n",
       "      <th>Datetime</th>\n",
       "      <th>NO</th>\n",
       "      <th>CO</th>\n",
       "      <th>NO2</th>\n",
       "      <th>O3</th>\n",
       "      <th>NOx</th>\n",
       "      <th>Benzene</th>\n",
       "      <th>Toluene</th>\n",
       "      <th>AQI</th>\n",
       "      <th>PM2.5</th>\n",
       "      <th>NH3</th>\n",
       "    </tr>\n",
       "  </thead>\n",
       "  <tbody>\n",
       "    <tr>\n",
       "      <th>0</th>\n",
       "      <td>2015-04-05 02:00:00</td>\n",
       "      <td>8.665</td>\n",
       "      <td>0.715</td>\n",
       "      <td>50.120</td>\n",
       "      <td>43.880</td>\n",
       "      <td>56.605</td>\n",
       "      <td>2.245</td>\n",
       "      <td>8.720</td>\n",
       "      <td>269.0</td>\n",
       "      <td>64.315</td>\n",
       "      <td>36.710</td>\n",
       "    </tr>\n",
       "    <tr>\n",
       "      <th>1</th>\n",
       "      <td>2015-04-05 03:00:00</td>\n",
       "      <td>11.000</td>\n",
       "      <td>0.875</td>\n",
       "      <td>50.735</td>\n",
       "      <td>44.930</td>\n",
       "      <td>62.195</td>\n",
       "      <td>2.705</td>\n",
       "      <td>11.130</td>\n",
       "      <td>248.5</td>\n",
       "      <td>67.415</td>\n",
       "      <td>34.555</td>\n",
       "    </tr>\n",
       "    <tr>\n",
       "      <th>2</th>\n",
       "      <td>2015-04-05 04:00:00</td>\n",
       "      <td>8.565</td>\n",
       "      <td>0.955</td>\n",
       "      <td>45.135</td>\n",
       "      <td>64.470</td>\n",
       "      <td>53.585</td>\n",
       "      <td>3.290</td>\n",
       "      <td>13.935</td>\n",
       "      <td>251.0</td>\n",
       "      <td>59.835</td>\n",
       "      <td>36.360</td>\n",
       "    </tr>\n",
       "    <tr>\n",
       "      <th>3</th>\n",
       "      <td>2015-04-05 05:00:00</td>\n",
       "      <td>7.680</td>\n",
       "      <td>0.795</td>\n",
       "      <td>35.390</td>\n",
       "      <td>49.535</td>\n",
       "      <td>42.720</td>\n",
       "      <td>4.075</td>\n",
       "      <td>18.015</td>\n",
       "      <td>253.5</td>\n",
       "      <td>74.330</td>\n",
       "      <td>31.680</td>\n",
       "    </tr>\n",
       "    <tr>\n",
       "      <th>4</th>\n",
       "      <td>2015-04-05 06:00:00</td>\n",
       "      <td>8.410</td>\n",
       "      <td>1.215</td>\n",
       "      <td>35.815</td>\n",
       "      <td>46.155</td>\n",
       "      <td>43.375</td>\n",
       "      <td>4.895</td>\n",
       "      <td>15.110</td>\n",
       "      <td>256.5</td>\n",
       "      <td>82.000</td>\n",
       "      <td>33.530</td>\n",
       "    </tr>\n",
       "  </tbody>\n",
       "</table>\n",
       "</div>"
      ],
      "text/plain": [
       "              Datetime      NO     CO     NO2      O3     NOx  Benzene  \\\n",
       "0  2015-04-05 02:00:00   8.665  0.715  50.120  43.880  56.605    2.245   \n",
       "1  2015-04-05 03:00:00  11.000  0.875  50.735  44.930  62.195    2.705   \n",
       "2  2015-04-05 04:00:00   8.565  0.955  45.135  64.470  53.585    3.290   \n",
       "3  2015-04-05 05:00:00   7.680  0.795  35.390  49.535  42.720    4.075   \n",
       "4  2015-04-05 06:00:00   8.410  1.215  35.815  46.155  43.375    4.895   \n",
       "\n",
       "   Toluene    AQI   PM2.5     NH3  \n",
       "0    8.720  269.0  64.315  36.710  \n",
       "1   11.130  248.5  67.415  34.555  \n",
       "2   13.935  251.0  59.835  36.360  \n",
       "3   18.015  253.5  74.330  31.680  \n",
       "4   15.110  256.5  82.000  33.530  "
      ]
     },
     "execution_count": 66,
     "metadata": {},
     "output_type": "execute_result"
    }
   ],
   "source": [
    "df = pd.read_csv('../data/lw3_no_outliers.csv')\n",
    "df.drop('Unnamed: 0', axis=1, inplace=True)\n",
    "df.head()"
   ]
  },
  {
   "cell_type": "code",
   "execution_count": 67,
   "metadata": {},
   "outputs": [
    {
     "data": {
      "text/plain": [
       "['Benzene', 'NH3', 'PM2.5', 'NO2', 'Toluene', 'O3', 'CO']"
      ]
     },
     "execution_count": 67,
     "metadata": {},
     "output_type": "execute_result"
    }
   ],
   "source": [
    "targets = ['AQI', 'NO', 'NOx']\n",
    "predictors = list(set(continues_fields) - set(targets))\n",
    "predictors"
   ]
  },
  {
   "cell_type": "code",
   "execution_count": 68,
   "metadata": {},
   "outputs": [
    {
     "data": {
      "text/plain": [
       "NO         40381\n",
       "CO         40381\n",
       "NO2        40381\n",
       "O3         40381\n",
       "SO2        40381\n",
       "Benzene    40381\n",
       "Toluene    40381\n",
       "AQI        40381\n",
       "PM2.5      40381\n",
       "NH3        40381\n",
       "dtype: int64"
      ]
     },
     "execution_count": 68,
     "metadata": {},
     "output_type": "execute_result"
    }
   ],
   "source": [
    "df_cont.count()"
   ]
  },
  {
   "cell_type": "markdown",
   "metadata": {},
   "source": [
    "# Values sampling\n",
    "We will used distribution estimation for target variables that was obtained in LW1"
   ]
  },
  {
   "cell_type": "code",
   "execution_count": 191,
   "metadata": {},
   "outputs": [
    {
     "data": {
      "text/html": [
       "<div>\n",
       "<style scoped>\n",
       "    .dataframe tbody tr th:only-of-type {\n",
       "        vertical-align: middle;\n",
       "    }\n",
       "\n",
       "    .dataframe tbody tr th {\n",
       "        vertical-align: top;\n",
       "    }\n",
       "\n",
       "    .dataframe thead th {\n",
       "        text-align: right;\n",
       "    }\n",
       "</style>\n",
       "<table border=\"1\" class=\"dataframe\">\n",
       "  <thead>\n",
       "    <tr style=\"text-align: right;\">\n",
       "      <th></th>\n",
       "      <th>Unnamed: 0</th>\n",
       "      <th>NOx</th>\n",
       "      <th>NO</th>\n",
       "      <th>NO2</th>\n",
       "    </tr>\n",
       "  </thead>\n",
       "  <tbody>\n",
       "    <tr>\n",
       "      <th>0</th>\n",
       "      <td>a</td>\n",
       "      <td>1.558624</td>\n",
       "      <td>1.527071</td>\n",
       "      <td>2.567387</td>\n",
       "    </tr>\n",
       "    <tr>\n",
       "      <th>1</th>\n",
       "      <td>loc</td>\n",
       "      <td>8.895373</td>\n",
       "      <td>0.121340</td>\n",
       "      <td>6.720913</td>\n",
       "    </tr>\n",
       "    <tr>\n",
       "      <th>2</th>\n",
       "      <td>scale</td>\n",
       "      <td>20.590173</td>\n",
       "      <td>9.195603</td>\n",
       "      <td>10.605425</td>\n",
       "    </tr>\n",
       "  </tbody>\n",
       "</table>\n",
       "</div>"
      ],
      "text/plain": [
       "  Unnamed: 0        NOx        NO        NO2\n",
       "0          a   1.558624  1.527071   2.567387\n",
       "1        loc   8.895373  0.121340   6.720913\n",
       "2      scale  20.590173  9.195603  10.605425"
      ]
     },
     "execution_count": 191,
     "metadata": {},
     "output_type": "execute_result"
    }
   ],
   "source": [
    "params = pd.read_csv('../data/params.csv')\n",
    "params.head()"
   ]
  },
  {
   "cell_type": "code",
   "execution_count": 216,
   "metadata": {},
   "outputs": [
    {
     "data": {
      "text/plain": [
       "<AxesSubplot:xlabel='NO2', ylabel='Density'>"
      ]
     },
     "execution_count": 216,
     "metadata": {},
     "output_type": "execute_result"
    },
    {
     "data": {
      "image/png": "[encoded data removed]",
      "text/plain": [
       "<Figure size 432x288 with 1 Axes>"
      ]
     },
     "metadata": {
      "needs_background": "light"
     },
     "output_type": "display_data"
    }
   ],
   "source": [
    "sampled = stats.gamma.rvs(*params['NO2'], 1000)\n",
    "sns.histplot(sampled, stat='density', color='yellow')\n",
    "sns.histplot(df_cont['NO2'], stat='density')"
   ]
  },
  {
   "cell_type": "code",
   "execution_count": 321,
   "metadata": {},
   "outputs": [
    {
     "data": {
      "text/plain": [
       "(array([0.00186302, 0.01489812, 0.02035239, 0.01605698, 0.01254219,\n",
       "        0.00781623, 0.00435375, 0.0022815 , 0.00113069, 0.00054321,\n",
       "        0.        ]),\n",
       " array([0.00186302, 0.01489812, 0.02035239, 0.01605698, 0.01254219,\n",
       "        0.00781623, 0.00435375, 0.0022815 , 0.00113069, 0.00054321]))"
      ]
     },
     "execution_count": 321,
     "metadata": {},
     "output_type": "execute_result"
    }
   ],
   "source": [
    "from scipy.interpolate import interp1d\n",
    "\n",
    "y, x = np.histogram(df_cont['NO2'], density=True)\n",
    "f = interp1d(x[:-1], y, fill_value=0, bounds_error=False)\n",
    "f(x), y\n"
   ]
  },
  {
   "cell_type": "code",
   "execution_count": 325,
   "metadata": {},
   "outputs": [
    {
     "data": {
      "text/plain": [
       "<matplotlib.legend.Legend at 0x7f94fbdae8b0>"
      ]
     },
     "execution_count": 325,
     "metadata": {},
     "output_type": "execute_result"
    },
    {
     "data": {
      "image/png": "[encoded data removed]",
      "text/plain": [
       "<Figure size 432x288 with 1 Axes>"
      ]
     },
     "metadata": {
      "needs_background": "light"
     },
     "output_type": "display_data"
    }
   ],
   "source": [
    "x = np.linspace(0, 150)\n",
    "y = f(x)\n",
    "m, mu, sigma = 4, 22, 60\n",
    "y2 = m * stats.norm.pdf(x, mu, sigma)\n",
    "plt.plot(x, y, label='f(x)')\n",
    "plt.plot(x, y2, label=f'{m} * N({mu}, {sigma})')\n",
    "plt.legend()"
   ]
  },
  {
   "cell_type": "code",
   "execution_count": 326,
   "metadata": {},
   "outputs": [],
   "source": [
    "def generate_reject_sampling(f, m, mu, sigma, N=10000):\n",
    "    result = []\n",
    "    for _ in range(N):\n",
    "        candidate = np.random.normal(mu, sigma)\n",
    "        prob_accept = f(candidate) / (m * stats.norm.pdf(candidate, mu, sigma))\n",
    "\n",
    "        if np.random.random() < prob_accept:\n",
    "            result.append(candidate)\n",
    "    return np.array(result)"
   ]
  },
  {
   "cell_type": "code",
   "execution_count": 327,
   "metadata": {},
   "outputs": [
    {
     "data": {
      "text/plain": [
       "(2520,)"
      ]
     },
     "execution_count": 327,
     "metadata": {},
     "output_type": "execute_result"
    }
   ],
   "source": [
    "generated = generate_reject_sampling(f, m, mu, sigma)\n",
    "generated.shape"
   ]
  },
  {
   "cell_type": "code",
   "execution_count": 329,
   "metadata": {},
   "outputs": [
    {
     "data": {
      "text/plain": [
       "<AxesSubplot:xlabel='NO2', ylabel='Density'>"
      ]
     },
     "execution_count": 329,
     "metadata": {},
     "output_type": "execute_result"
    },
    {
     "data": {
      "image/png": "[encoded data removed]",
      "text/plain": [
       "<Figure size 432x288 with 1 Axes>"
      ]
     },
     "metadata": {
      "needs_background": "light"
     },
     "output_type": "display_data"
    }
   ],
   "source": [
    "sns.histplot(generated, stat='density', color='yellow')\n",
    "sns.histplot(df_cont['NO2'], stat='density')"
   ]
  },
  {
   "cell_type": "markdown",
   "metadata": {},
   "source": [
    "# Correlation estimation\n",
    "## Overall corelation"
   ]
  },
  {
   "cell_type": "code",
   "execution_count": 45,
   "metadata": {},
   "outputs": [],
   "source": [
    "import seaborn as sns\n",
    "import matplotlib.pyplot as plt"
   ]
  },
  {
   "cell_type": "code",
   "execution_count": 69,
   "metadata": {},
   "outputs": [
    {
     "data": {
      "text/html": [
       "<div>\n",
       "<style scoped>\n",
       "    .dataframe tbody tr th:only-of-type {\n",
       "        vertical-align: middle;\n",
       "    }\n",
       "\n",
       "    .dataframe tbody tr th {\n",
       "        vertical-align: top;\n",
       "    }\n",
       "\n",
       "    .dataframe thead th {\n",
       "        text-align: right;\n",
       "    }\n",
       "</style>\n",
       "<table border=\"1\" class=\"dataframe\">\n",
       "  <thead>\n",
       "    <tr style=\"text-align: right;\">\n",
       "      <th></th>\n",
       "      <th>NO</th>\n",
       "      <th>CO</th>\n",
       "      <th>NO2</th>\n",
       "      <th>O3</th>\n",
       "      <th>NOx</th>\n",
       "      <th>Benzene</th>\n",
       "      <th>Toluene</th>\n",
       "      <th>AQI</th>\n",
       "      <th>PM2.5</th>\n",
       "      <th>NH3</th>\n",
       "    </tr>\n",
       "  </thead>\n",
       "  <tbody>\n",
       "    <tr>\n",
       "      <th>0</th>\n",
       "      <td>8.665</td>\n",
       "      <td>0.715</td>\n",
       "      <td>50.120</td>\n",
       "      <td>43.880</td>\n",
       "      <td>56.605</td>\n",
       "      <td>2.245</td>\n",
       "      <td>8.720</td>\n",
       "      <td>269.0</td>\n",
       "      <td>64.315</td>\n",
       "      <td>36.710</td>\n",
       "    </tr>\n",
       "    <tr>\n",
       "      <th>1</th>\n",
       "      <td>11.000</td>\n",
       "      <td>0.875</td>\n",
       "      <td>50.735</td>\n",
       "      <td>44.930</td>\n",
       "      <td>62.195</td>\n",
       "      <td>2.705</td>\n",
       "      <td>11.130</td>\n",
       "      <td>248.5</td>\n",
       "      <td>67.415</td>\n",
       "      <td>34.555</td>\n",
       "    </tr>\n",
       "    <tr>\n",
       "      <th>2</th>\n",
       "      <td>8.565</td>\n",
       "      <td>0.955</td>\n",
       "      <td>45.135</td>\n",
       "      <td>64.470</td>\n",
       "      <td>53.585</td>\n",
       "      <td>3.290</td>\n",
       "      <td>13.935</td>\n",
       "      <td>251.0</td>\n",
       "      <td>59.835</td>\n",
       "      <td>36.360</td>\n",
       "    </tr>\n",
       "    <tr>\n",
       "      <th>3</th>\n",
       "      <td>7.680</td>\n",
       "      <td>0.795</td>\n",
       "      <td>35.390</td>\n",
       "      <td>49.535</td>\n",
       "      <td>42.720</td>\n",
       "      <td>4.075</td>\n",
       "      <td>18.015</td>\n",
       "      <td>253.5</td>\n",
       "      <td>74.330</td>\n",
       "      <td>31.680</td>\n",
       "    </tr>\n",
       "    <tr>\n",
       "      <th>4</th>\n",
       "      <td>8.410</td>\n",
       "      <td>1.215</td>\n",
       "      <td>35.815</td>\n",
       "      <td>46.155</td>\n",
       "      <td>43.375</td>\n",
       "      <td>4.895</td>\n",
       "      <td>15.110</td>\n",
       "      <td>256.5</td>\n",
       "      <td>82.000</td>\n",
       "      <td>33.530</td>\n",
       "    </tr>\n",
       "  </tbody>\n",
       "</table>\n",
       "</div>"
      ],
      "text/plain": [
       "       NO     CO     NO2      O3     NOx  Benzene  Toluene    AQI   PM2.5  \\\n",
       "0   8.665  0.715  50.120  43.880  56.605    2.245    8.720  269.0  64.315   \n",
       "1  11.000  0.875  50.735  44.930  62.195    2.705   11.130  248.5  67.415   \n",
       "2   8.565  0.955  45.135  64.470  53.585    3.290   13.935  251.0  59.835   \n",
       "3   7.680  0.795  35.390  49.535  42.720    4.075   18.015  253.5  74.330   \n",
       "4   8.410  1.215  35.815  46.155  43.375    4.895   15.110  256.5  82.000   \n",
       "\n",
       "      NH3  \n",
       "0  36.710  \n",
       "1  34.555  \n",
       "2  36.360  \n",
       "3  31.680  \n",
       "4  33.530  "
      ]
     },
     "execution_count": 69,
     "metadata": {},
     "output_type": "execute_result"
    }
   ],
   "source": [
    "df_cont = df[continues_fields]\n",
    "df_cont.head()"
   ]
  },
  {
   "cell_type": "code",
   "execution_count": 70,
   "metadata": {},
   "outputs": [
    {
     "data": {
      "text/plain": [
       "<AxesSubplot:>"
      ]
     },
     "execution_count": 70,
     "metadata": {},
     "output_type": "execute_result"
    },
    {
     "data": {
      "image/png": "[encoded data removed]",
      "text/plain": [
       "<Figure size 720x576 with 2 Axes>"
      ]
     },
     "metadata": {
      "needs_background": "light"
     },
     "output_type": "display_data"
    }
   ],
   "source": [
    "plt.figure(figsize=(10, 8))\n",
    "sns.heatmap(df.corr(), annot=True)"
   ]
  },
  {
   "cell_type": "code",
   "execution_count": 47,
   "metadata": {},
   "outputs": [
    {
     "data": {
      "text/plain": [
       "(0.725913632129718, 0.0)"
      ]
     },
     "execution_count": 47,
     "metadata": {},
     "output_type": "execute_result"
    }
   ],
   "source": [
    "stats.pearsonr(df_cont['PM2.5'], df_cont['AQI'])"
   ]
  },
  {
   "cell_type": "markdown",
   "metadata": {},
   "source": [
    "## Target-predictors correlation"
   ]
  },
  {
   "cell_type": "code",
   "execution_count": 104,
   "metadata": {},
   "outputs": [
    {
     "data": {
      "text/plain": [
       "<AxesSubplot:>"
      ]
     },
     "execution_count": 104,
     "metadata": {},
     "output_type": "execute_result"
    },
    {
     "data": {
      "image/png": "[encoded data removed]",
      "text/plain": [
       "<Figure size 576x360 with 2 Axes>"
      ]
     },
     "metadata": {
      "needs_background": "light"
     },
     "output_type": "display_data"
    }
   ],
   "source": [
    "plt.figure(figsize=(8, 5))\n",
    "corr = pd.DataFrame(df_cont[predictors].corrwith(df_cont['NOx']).sort_values(ascending=False), columns=['NOx'])\n",
    "sns.heatmap(\n",
    "   corr,\n",
    "   annot=True\n",
    ")\n"
   ]
  },
  {
   "cell_type": "code",
   "execution_count": 105,
   "metadata": {},
   "outputs": [
    {
     "data": {
      "text/plain": [
       "<AxesSubplot:>"
      ]
     },
     "execution_count": 105,
     "metadata": {},
     "output_type": "execute_result"
    },
    {
     "data": {
      "image/png": "[encoded data removed]",
      "text/plain": [
       "<Figure size 576x360 with 2 Axes>"
      ]
     },
     "metadata": {
      "needs_background": "light"
     },
     "output_type": "display_data"
    }
   ],
   "source": [
    "plt.figure(figsize=(8, 5))\n",
    "corr = pd.DataFrame(df_cont[predictors].corrwith(df_cont['NO']).sort_values(ascending=False), columns=['NO'])\n",
    "sns.heatmap(\n",
    "   corr,\n",
    "   annot=True\n",
    ")"
   ]
  },
  {
   "cell_type": "code",
   "execution_count": 106,
   "metadata": {},
   "outputs": [
    {
     "data": {
      "text/plain": [
       "<AxesSubplot:>"
      ]
     },
     "execution_count": 106,
     "metadata": {},
     "output_type": "execute_result"
    },
    {
     "data": {
      "image/png": "[encoded data removed]",
      "text/plain": [
       "<Figure size 576x360 with 2 Axes>"
      ]
     },
     "metadata": {
      "needs_background": "light"
     },
     "output_type": "display_data"
    }
   ],
   "source": [
    "plt.figure(figsize=(8, 5))\n",
    "corr = pd.DataFrame(df_cont[predictors].corrwith(df_cont['AQI']).sort_values(ascending=False), columns=['AQI'])\n",
    "sns.heatmap(\n",
    "   corr,\n",
    "   annot=True\n",
    ")\n"
   ]
  },
  {
   "cell_type": "markdown",
   "metadata": {},
   "source": [
    "# Building Bayesian network based on multivariate analysis"
   ]
  },
  {
   "cell_type": "code",
   "execution_count": 107,
   "metadata": {},
   "outputs": [],
   "source": [
    "import os, sys\n",
    "sys.path.insert(0, './BAMT/')"
   ]
  },
  {
   "cell_type": "code",
   "execution_count": 145,
   "metadata": {},
   "outputs": [],
   "source": [
    "from BAMT.preprocess.discretization import discretization, get_nodes_type, code_categories, get_nodes_sign\n",
    "from BAMT.bayesian.train_bn import structure_learning, parameter_learning\n",
    "from BAMT.visualization.visualization import draw_BN\n",
    "from BAMT.bayesian.sampling import generate_synthetics\n",
    "from BAMT.external.libpgm.hybayesiannetwork import HyBayesianNetwork\n",
    "from BAMT.bayesian.save_bn import save_structure, save_params, read_structure, read_params"
   ]
  },
  {
   "cell_type": "code",
   "execution_count": 171,
   "metadata": {},
   "outputs": [],
   "source": [
    "my_bn = {\n",
    "    'V': continues_fields,\n",
    "    'E': [\n",
    "        ['PM2.5', 'AQI'],\n",
    "        ['NH3', 'AQI'],\n",
    "        ['NO2', 'AQI'],\n",
    "        ['CO', 'NO'],\n",
    "        ['NO2', 'NO'],\n",
    "        ['Benzene', 'NO'],\n",
    "        ['NO2', 'NOx'],\n",
    "        ['CO', 'NOx'],\n",
    "        ['PM2.5', 'CO'],\n",
    "        ['PM2.5', 'NH3'],\n",
    "        ['NO2', 'CO'],\n",
    "        ['Benzene', 'CO'],\n",
    "        ['Toluene', 'Benzene']\n",
    "    ]\n",
    "}"
   ]
  },
  {
   "cell_type": "code",
   "execution_count": 173,
   "metadata": {},
   "outputs": [
    {
     "data": {
      "text/plain": [
       "1"
      ]
     },
     "execution_count": 173,
     "metadata": {},
     "output_type": "execute_result"
    }
   ],
   "source": [
    "draw_BN(my_bn, nodes_type, '../results/LW3/my_bayess')\n",
    "1"
   ]
  },
  {
   "cell_type": "markdown",
   "metadata": {},
   "source": [
    "# Building Byaesian network based on structural learning"
   ]
  },
  {
   "cell_type": "code",
   "execution_count": 116,
   "metadata": {},
   "outputs": [
    {
     "data": {
      "text/plain": [
       "{'NO': 'cont',\n",
       " 'CO': 'cont',\n",
       " 'NO2': 'cont',\n",
       " 'O3': 'cont',\n",
       " 'NOx': 'cont',\n",
       " 'Benzene': 'cont',\n",
       " 'Toluene': 'cont',\n",
       " 'AQI': 'cont',\n",
       " 'PM2.5': 'cont',\n",
       " 'NH3': 'cont'}"
      ]
     },
     "execution_count": 116,
     "metadata": {},
     "output_type": "execute_result"
    }
   ],
   "source": [
    "nodes_type = get_nodes_type(df_cont)\n",
    "nodes_type"
   ]
  },
  {
   "cell_type": "code",
   "execution_count": 127,
   "metadata": {},
   "outputs": [],
   "source": [
    "nodes_sign = get_nodes_sign(df_cont)"
   ]
  },
  {
   "cell_type": "code",
   "execution_count": 120,
   "metadata": {},
   "outputs": [],
   "source": [
    "discrete_data, coder = discretization(df_cont, 'equal_frequency', columns=continues_fields)"
   ]
  },
  {
   "cell_type": "code",
   "execution_count": 163,
   "metadata": {},
   "outputs": [],
   "source": [
    "bn = structure_learning(discrete_data, 'HC', nodes_type, 'K2')"
   ]
  },
  {
   "cell_type": "code",
   "execution_count": 135,
   "metadata": {},
   "outputs": [
    {
     "data": {
      "text/plain": [
       "1"
      ]
     },
     "execution_count": 135,
     "metadata": {},
     "output_type": "execute_result"
    }
   ],
   "source": [
    "draw_BN(bn, nodes_type, '../results/LW3/HC_MI_bayess')\n",
    "1"
   ]
  },
  {
   "cell_type": "code",
   "execution_count": 174,
   "metadata": {},
   "outputs": [],
   "source": [
    "params_mi = parameter_learning(df_cont, nodes_type, my_bn, 'simple')"
   ]
  },
  {
   "cell_type": "code",
   "execution_count": 175,
   "metadata": {},
   "outputs": [],
   "source": [
    "save_structure(my_bn, 'socio_net_structure')\n",
    "skel = read_structure('socio_net_structure')\n",
    "save_params(params_mi, 'socio_net_param')\n",
    "params = read_params('socio_net_param')\n",
    "my_bn_model = HyBayesianNetwork(skel, params)"
   ]
  },
  {
   "cell_type": "code",
   "execution_count": 184,
   "metadata": {},
   "outputs": [
    {
     "data": {
      "text/html": [
       "<div>\n",
       "<style scoped>\n",
       "    .dataframe tbody tr th:only-of-type {\n",
       "        vertical-align: middle;\n",
       "    }\n",
       "\n",
       "    .dataframe tbody tr th {\n",
       "        vertical-align: top;\n",
       "    }\n",
       "\n",
       "    .dataframe thead th {\n",
       "        text-align: right;\n",
       "    }\n",
       "</style>\n",
       "<table border=\"1\" class=\"dataframe\">\n",
       "  <thead>\n",
       "    <tr style=\"text-align: right;\">\n",
       "      <th></th>\n",
       "      <th>NO</th>\n",
       "      <th>NOx</th>\n",
       "      <th>NO2</th>\n",
       "      <th>CO</th>\n",
       "      <th>Benzene</th>\n",
       "      <th>Toluene</th>\n",
       "      <th>AQI</th>\n",
       "      <th>PM2.5</th>\n",
       "      <th>NH3</th>\n",
       "      <th>O3</th>\n",
       "    </tr>\n",
       "  </thead>\n",
       "  <tbody>\n",
       "    <tr>\n",
       "      <th>0</th>\n",
       "      <td>34.694113</td>\n",
       "      <td>89.940593</td>\n",
       "      <td>70.955181</td>\n",
       "      <td>1.186144</td>\n",
       "      <td>4.138572</td>\n",
       "      <td>17.174608</td>\n",
       "      <td>391.706771</td>\n",
       "      <td>202.729959</td>\n",
       "      <td>54.337761</td>\n",
       "      <td>24.853693</td>\n",
       "    </tr>\n",
       "    <tr>\n",
       "      <th>1</th>\n",
       "      <td>75.433035</td>\n",
       "      <td>143.207741</td>\n",
       "      <td>93.636941</td>\n",
       "      <td>2.573867</td>\n",
       "      <td>10.512039</td>\n",
       "      <td>33.547629</td>\n",
       "      <td>288.460748</td>\n",
       "      <td>223.502771</td>\n",
       "      <td>54.088747</td>\n",
       "      <td>27.721050</td>\n",
       "    </tr>\n",
       "    <tr>\n",
       "      <th>2</th>\n",
       "      <td>20.106661</td>\n",
       "      <td>60.136485</td>\n",
       "      <td>44.812869</td>\n",
       "      <td>0.452960</td>\n",
       "      <td>2.922638</td>\n",
       "      <td>2.678227</td>\n",
       "      <td>73.747228</td>\n",
       "      <td>68.328987</td>\n",
       "      <td>31.381944</td>\n",
       "      <td>14.081314</td>\n",
       "    </tr>\n",
       "    <tr>\n",
       "      <th>3</th>\n",
       "      <td>9.907327</td>\n",
       "      <td>35.530086</td>\n",
       "      <td>18.208134</td>\n",
       "      <td>0.503946</td>\n",
       "      <td>0.635185</td>\n",
       "      <td>8.492045</td>\n",
       "      <td>335.822445</td>\n",
       "      <td>72.132366</td>\n",
       "      <td>27.688719</td>\n",
       "      <td>82.432444</td>\n",
       "    </tr>\n",
       "    <tr>\n",
       "      <th>4</th>\n",
       "      <td>13.812010</td>\n",
       "      <td>31.204865</td>\n",
       "      <td>56.360709</td>\n",
       "      <td>0.648626</td>\n",
       "      <td>1.505900</td>\n",
       "      <td>13.513638</td>\n",
       "      <td>280.715112</td>\n",
       "      <td>71.107681</td>\n",
       "      <td>40.753636</td>\n",
       "      <td>41.783696</td>\n",
       "    </tr>\n",
       "  </tbody>\n",
       "</table>\n",
       "</div>"
      ],
      "text/plain": [
       "          NO         NOx        NO2        CO    Benzene    Toluene  \\\n",
       "0  34.694113   89.940593  70.955181  1.186144   4.138572  17.174608   \n",
       "1  75.433035  143.207741  93.636941  2.573867  10.512039  33.547629   \n",
       "2  20.106661   60.136485  44.812869  0.452960   2.922638   2.678227   \n",
       "3   9.907327   35.530086  18.208134  0.503946   0.635185   8.492045   \n",
       "4  13.812010   31.204865  56.360709  0.648626   1.505900  13.513638   \n",
       "\n",
       "          AQI       PM2.5        NH3         O3  \n",
       "0  391.706771  202.729959  54.337761  24.853693  \n",
       "1  288.460748  223.502771  54.088747  27.721050  \n",
       "2   73.747228   68.328987  31.381944  14.081314  \n",
       "3  335.822445   72.132366  27.688719  82.432444  \n",
       "4  280.715112   71.107681  40.753636  41.783696  "
      ]
     },
     "execution_count": 184,
     "metadata": {},
     "output_type": "execute_result"
    }
   ],
   "source": [
    "synth_df = generate_synthetics(bn_model, nodes_sign, 'simple', 1000)\n",
    "synth_df.head()"
   ]
  },
  {
   "cell_type": "markdown",
   "metadata": {},
   "source": [
    "# Quality analysis"
   ]
  },
  {
   "cell_type": "code",
   "execution_count": 178,
   "metadata": {},
   "outputs": [
    {
     "data": {
      "text/plain": [
       "<AxesSubplot:xlabel='AQI', ylabel='Density'>"
      ]
     },
     "execution_count": 178,
     "metadata": {},
     "output_type": "execute_result"
    },
    {
     "data": {
      "image/png": "[encoded data removed]",
      "text/plain": [
       "<Figure size 432x288 with 1 Axes>"
      ]
     },
     "metadata": {
      "needs_background": "light"
     },
     "output_type": "display_data"
    }
   ],
   "source": [
    "sns.histplot(synth_df['AQI'], stat='density', color='yellow')\n",
    "sns.histplot(df_cont['AQI'], stat='density')"
   ]
  },
  {
   "cell_type": "code",
   "execution_count": 179,
   "metadata": {},
   "outputs": [
    {
     "data": {
      "text/plain": [
       "<AxesSubplot:xlabel='NO', ylabel='Density'>"
      ]
     },
     "execution_count": 179,
     "metadata": {},
     "output_type": "execute_result"
    },
    {
     "data": {
      "image/png": "[encoded data removed]",
      "text/plain": [
       "<Figure size 432x288 with 1 Axes>"
      ]
     },
     "metadata": {
      "needs_background": "light"
     },
     "output_type": "display_data"
    }
   ],
   "source": [
    "sns.histplot(synth_df['NO'], stat='density', color='yellow')\n",
    "sns.histplot(df_cont['NO'], stat='density')"
   ]
  },
  {
   "cell_type": "code",
   "execution_count": 181,
   "metadata": {},
   "outputs": [
    {
     "data": {
      "text/plain": [
       "<AxesSubplot:xlabel='NOx', ylabel='Density'>"
      ]
     },
     "execution_count": 181,
     "metadata": {},
     "output_type": "execute_result"
    },
    {
     "data": {
      "image/png": "[encoded data removed]",
      "text/plain": [
       "<Figure size 432x288 with 1 Axes>"
      ]
     },
     "metadata": {
      "needs_background": "light"
     },
     "output_type": "display_data"
    }
   ],
   "source": [
    "sns.histplot(synth_df['NOx'], stat='density', color='yellow')\n",
    "sns.histplot(df_cont['NOx'], stat='density')"
   ]
  },
  {
   "cell_type": "code",
   "execution_count": 189,
   "metadata": {},
   "outputs": [
    {
     "data": {
      "text/plain": [
       "<AxesSubplot:xlabel='NH3', ylabel='CO'>"
      ]
     },
     "execution_count": 189,
     "metadata": {},
     "output_type": "execute_result"
    },
    {
     "data": {
      "image/png": "[encoded data removed]",
      "text/plain": [
       "<Figure size 432x288 with 1 Axes>"
      ]
     },
     "metadata": {
      "needs_background": "light"
     },
     "output_type": "display_data"
    }
   ],
   "source": [
    "sns.histplot(df_cont, x='NH3', y='CO', kde=True)"
   ]
  },
  {
   "cell_type": "code",
   "execution_count": 190,
   "metadata": {},
   "outputs": [
    {
     "data": {
      "text/plain": [
       "<AxesSubplot:xlabel='NH3', ylabel='CO'>"
      ]
     },
     "execution_count": 190,
     "metadata": {},
     "output_type": "execute_result"
    },
    {
     "data": {
      "image/png": "[encoded data removed]",
      "text/plain": [
       "<Figure size 432x288 with 1 Axes>"
      ]
     },
     "metadata": {
      "needs_background": "light"
     },
     "output_type": "display_data"
    }
   ],
   "source": [
    "sns.histplot(synth_df, x='NH3', y='CO', kde=True)"
   ]
  },
  {
   "cell_type": "code",
   "execution_count": null,
   "metadata": {},
   "outputs": [],
   "source": []
  }
 ],
 "metadata": {
  "interpreter": {
   "hash": "a3c7d67743a3563bab7c0cf2bee6b0184e94f1e920ee5b954f95efcd1ef326f2"
  },
  "kernelspec": {
   "display_name": "Python 3.8.10 64-bit ('venv': venv)",
   "language": "python",
   "name": "python3"
  },
  "language_info": {
   "codemirror_mode": {
    "name": "ipython",
    "version": 3
   },
   "file_extension": ".py",
   "mimetype": "text/x-python",
   "name": "python",
   "nbconvert_exporter": "python",
   "pygments_lexer": "ipython3",
   "version": "3.8.10"
  },
  "orig_nbformat": 4
 },
 "nbformat": 4,
 "nbformat_minor": 2
}
