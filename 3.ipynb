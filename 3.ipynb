{
 "cells": [
  {
   "cell_type": "code",
   "execution_count": 20,
   "metadata": {},
   "outputs": [],
   "source": [
    "import pandas as pd\n",
    "import sklearn as sk\n",
    "import scipy as sc\n",
    "import scipy.stats as stats\n",
    "import numpy as np\n",
    "import seaborn as sns"
   ]
  },
  {
   "cell_type": "code",
   "execution_count": 21,
   "metadata": {},
   "outputs": [
    {
     "ename": "ModuleNotFoundError",
     "evalue": "No module named 'bayesian'",
     "output_type": "error",
     "traceback": [
      "\u001b[0;31m---------------------------------------------------------------------------\u001b[0m",
      "\u001b[0;31mModuleNotFoundError\u001b[0m                       Traceback (most recent call last)",
      "\u001b[0;32m/tmp/ipykernel_22435/1315071406.py\u001b[0m in \u001b[0;36m<module>\u001b[0;34m\u001b[0m\n\u001b[0;32m----> 1\u001b[0;31m \u001b[0;32mfrom\u001b[0m \u001b[0mBAMT\u001b[0m\u001b[0;34m.\u001b[0m\u001b[0mbayesian\u001b[0m\u001b[0;34m.\u001b[0m\u001b[0mtrain_bn\u001b[0m \u001b[0;32mimport\u001b[0m \u001b[0mstructure_learning\u001b[0m\u001b[0;34m,\u001b[0m \u001b[0mparameter_learning\u001b[0m\u001b[0;34m\u001b[0m\u001b[0;34m\u001b[0m\u001b[0m\n\u001b[0m\u001b[1;32m      2\u001b[0m \u001b[0;32mfrom\u001b[0m \u001b[0mBAMT\u001b[0m\u001b[0;34m.\u001b[0m\u001b[0mpreprocess\u001b[0m\u001b[0;34m.\u001b[0m\u001b[0mdiscretization\u001b[0m \u001b[0;32mimport\u001b[0m \u001b[0mget_nodes_type\u001b[0m\u001b[0;34m,\u001b[0m \u001b[0mdiscretization\u001b[0m\u001b[0;34m,\u001b[0m \u001b[0mcode_categories\u001b[0m\u001b[0;34m,\u001b[0m \u001b[0mget_nodes_sign\u001b[0m\u001b[0;34m\u001b[0m\u001b[0;34m\u001b[0m\u001b[0m\n\u001b[1;32m      3\u001b[0m \u001b[0;32mfrom\u001b[0m \u001b[0mBAMT\u001b[0m\u001b[0;34m.\u001b[0m\u001b[0mbayesian\u001b[0m\u001b[0;34m.\u001b[0m\u001b[0msave_bn\u001b[0m \u001b[0;32mimport\u001b[0m \u001b[0msave_structure\u001b[0m\u001b[0;34m,\u001b[0m \u001b[0msave_params\u001b[0m\u001b[0;34m,\u001b[0m \u001b[0mread_structure\u001b[0m\u001b[0;34m,\u001b[0m \u001b[0mread_params\u001b[0m\u001b[0;34m\u001b[0m\u001b[0;34m\u001b[0m\u001b[0m\n\u001b[1;32m      4\u001b[0m \u001b[0;32mfrom\u001b[0m \u001b[0mBAMT\u001b[0m\u001b[0;34m.\u001b[0m\u001b[0mbayesian\u001b[0m\u001b[0;34m.\u001b[0m\u001b[0msampling\u001b[0m \u001b[0;32mimport\u001b[0m \u001b[0mgenerate_synthetics\u001b[0m\u001b[0;34m\u001b[0m\u001b[0;34m\u001b[0m\u001b[0m\n\u001b[1;32m      5\u001b[0m \u001b[0;32mfrom\u001b[0m \u001b[0mBAMT\u001b[0m\u001b[0;34m.\u001b[0m\u001b[0mexternal\u001b[0m\u001b[0;34m.\u001b[0m\u001b[0mlibpgm\u001b[0m\u001b[0;34m.\u001b[0m\u001b[0mhybayesiannetwork\u001b[0m \u001b[0;32mimport\u001b[0m \u001b[0mHyBayesianNetwork\u001b[0m\u001b[0;34m\u001b[0m\u001b[0;34m\u001b[0m\u001b[0m\n",
      "\u001b[0;32m~/itmo/MSA/src/BAMT/bayesian/train_bn.py\u001b[0m in \u001b[0;36m<module>\u001b[0;34m\u001b[0m\n\u001b[1;32m      9\u001b[0m \u001b[0;32mfrom\u001b[0m \u001b[0mpomegranate\u001b[0m \u001b[0;32mimport\u001b[0m \u001b[0mDiscreteDistribution\u001b[0m\u001b[0;34m,\u001b[0m \u001b[0mConditionalProbabilityTable\u001b[0m\u001b[0;34m\u001b[0m\u001b[0;34m\u001b[0m\u001b[0m\n\u001b[1;32m     10\u001b[0m \u001b[0;32mfrom\u001b[0m \u001b[0msklearn\u001b[0m \u001b[0;32mimport\u001b[0m \u001b[0mlinear_model\u001b[0m\u001b[0;34m\u001b[0m\u001b[0;34m\u001b[0m\u001b[0m\n\u001b[0;32m---> 11\u001b[0;31m \u001b[0;32mfrom\u001b[0m \u001b[0mbayesian\u001b[0m\u001b[0;34m.\u001b[0m\u001b[0mstructure_score\u001b[0m \u001b[0;32mimport\u001b[0m \u001b[0mMIG\u001b[0m\u001b[0;34m,\u001b[0m \u001b[0mLLG\u001b[0m\u001b[0;34m,\u001b[0m \u001b[0mBICG\u001b[0m\u001b[0;34m,\u001b[0m \u001b[0mAICG\u001b[0m\u001b[0;34m\u001b[0m\u001b[0;34m\u001b[0m\u001b[0m\n\u001b[0m\u001b[1;32m     12\u001b[0m \u001b[0;32mfrom\u001b[0m \u001b[0msklearn\u001b[0m\u001b[0;34m.\u001b[0m\u001b[0mmixture\u001b[0m \u001b[0;32mimport\u001b[0m \u001b[0mGaussianMixture\u001b[0m\u001b[0;34m\u001b[0m\u001b[0;34m\u001b[0m\u001b[0m\n\u001b[1;32m     13\u001b[0m \u001b[0;32mfrom\u001b[0m \u001b[0mbayesian\u001b[0m\u001b[0;34m.\u001b[0m\u001b[0mredef_HC\u001b[0m \u001b[0;32mimport\u001b[0m \u001b[0mhc\u001b[0m \u001b[0;32mas\u001b[0m \u001b[0mhc_method\u001b[0m\u001b[0;34m\u001b[0m\u001b[0;34m\u001b[0m\u001b[0m\n",
      "\u001b[0;31mModuleNotFoundError\u001b[0m: No module named 'bayesian'"
     ]
    }
   ],
   "source": [
    "from BAMT.bayesian.train_bn import structure_learning, parameter_learning\n",
    "from BAMT.preprocess.discretization import get_nodes_type, discretization, code_categories, get_nodes_sign\n",
    "from BAMT.bayesian.save_bn import save_structure, save_params, read_structure, read_params\n",
    "from BAMT.bayesian.sampling import generate_synthetics\n",
    "from BAMT.external.libpgm.hybayesiannetwork import HyBayesianNetwork\n",
    "from BAMT.visualization.visualization import draw_BN"
   ]
  },
  {
   "cell_type": "code",
   "execution_count": 4,
   "metadata": {},
   "outputs": [],
   "source": [
    "import BAMT.bayesian"
   ]
  },
  {
   "cell_type": "code",
   "execution_count": 56,
   "metadata": {},
   "outputs": [
    {
     "name": "stderr",
     "output_type": "stream",
     "text": [
      "/home/ryazmax/dls/venv/lib/python3.8/site-packages/IPython/core/interactiveshell.py:3444: DtypeWarning: Columns (15) have mixed types.Specify dtype option on import or set low_memory=False.\n",
      "  exec(code_obj, self.user_global_ns, self.user_ns)\n"
     ]
    },
    {
     "data": {
      "text/html": [
       "<div>\n",
       "<style scoped>\n",
       "    .dataframe tbody tr th:only-of-type {\n",
       "        vertical-align: middle;\n",
       "    }\n",
       "\n",
       "    .dataframe tbody tr th {\n",
       "        vertical-align: top;\n",
       "    }\n",
       "\n",
       "    .dataframe thead th {\n",
       "        text-align: right;\n",
       "    }\n",
       "</style>\n",
       "<table border=\"1\" class=\"dataframe\">\n",
       "  <thead>\n",
       "    <tr style=\"text-align: right;\">\n",
       "      <th></th>\n",
       "      <th>StationId</th>\n",
       "      <th>Datetime</th>\n",
       "      <th>PM2.5</th>\n",
       "      <th>PM10</th>\n",
       "      <th>NO</th>\n",
       "      <th>NO2</th>\n",
       "      <th>NOx</th>\n",
       "      <th>NH3</th>\n",
       "      <th>CO</th>\n",
       "      <th>SO2</th>\n",
       "      <th>O3</th>\n",
       "      <th>Benzene</th>\n",
       "      <th>Toluene</th>\n",
       "      <th>Xylene</th>\n",
       "      <th>AQI</th>\n",
       "      <th>AQI_Bucket</th>\n",
       "    </tr>\n",
       "  </thead>\n",
       "  <tbody>\n",
       "    <tr>\n",
       "      <th>0</th>\n",
       "      <td>AP001</td>\n",
       "      <td>2017-11-24 17:00:00</td>\n",
       "      <td>60.50</td>\n",
       "      <td>98.00</td>\n",
       "      <td>2.35</td>\n",
       "      <td>30.80</td>\n",
       "      <td>18.25</td>\n",
       "      <td>8.50</td>\n",
       "      <td>0.1</td>\n",
       "      <td>11.85</td>\n",
       "      <td>126.40</td>\n",
       "      <td>0.1</td>\n",
       "      <td>6.10</td>\n",
       "      <td>0.10</td>\n",
       "      <td>NaN</td>\n",
       "      <td>NaN</td>\n",
       "    </tr>\n",
       "    <tr>\n",
       "      <th>1</th>\n",
       "      <td>AP001</td>\n",
       "      <td>2017-11-24 18:00:00</td>\n",
       "      <td>65.50</td>\n",
       "      <td>111.25</td>\n",
       "      <td>2.70</td>\n",
       "      <td>24.20</td>\n",
       "      <td>15.07</td>\n",
       "      <td>9.77</td>\n",
       "      <td>0.1</td>\n",
       "      <td>13.17</td>\n",
       "      <td>117.12</td>\n",
       "      <td>0.1</td>\n",
       "      <td>6.25</td>\n",
       "      <td>0.15</td>\n",
       "      <td>NaN</td>\n",
       "      <td>NaN</td>\n",
       "    </tr>\n",
       "    <tr>\n",
       "      <th>2</th>\n",
       "      <td>AP001</td>\n",
       "      <td>2017-11-24 19:00:00</td>\n",
       "      <td>80.00</td>\n",
       "      <td>132.00</td>\n",
       "      <td>2.10</td>\n",
       "      <td>25.18</td>\n",
       "      <td>15.15</td>\n",
       "      <td>12.02</td>\n",
       "      <td>0.1</td>\n",
       "      <td>12.08</td>\n",
       "      <td>98.98</td>\n",
       "      <td>0.2</td>\n",
       "      <td>5.98</td>\n",
       "      <td>0.18</td>\n",
       "      <td>NaN</td>\n",
       "      <td>NaN</td>\n",
       "    </tr>\n",
       "    <tr>\n",
       "      <th>3</th>\n",
       "      <td>AP001</td>\n",
       "      <td>2017-11-24 20:00:00</td>\n",
       "      <td>81.50</td>\n",
       "      <td>133.25</td>\n",
       "      <td>1.95</td>\n",
       "      <td>16.25</td>\n",
       "      <td>10.23</td>\n",
       "      <td>11.58</td>\n",
       "      <td>0.1</td>\n",
       "      <td>10.47</td>\n",
       "      <td>112.20</td>\n",
       "      <td>0.2</td>\n",
       "      <td>6.72</td>\n",
       "      <td>0.10</td>\n",
       "      <td>NaN</td>\n",
       "      <td>NaN</td>\n",
       "    </tr>\n",
       "    <tr>\n",
       "      <th>4</th>\n",
       "      <td>AP001</td>\n",
       "      <td>2017-11-24 21:00:00</td>\n",
       "      <td>75.25</td>\n",
       "      <td>116.00</td>\n",
       "      <td>1.43</td>\n",
       "      <td>17.48</td>\n",
       "      <td>10.43</td>\n",
       "      <td>12.03</td>\n",
       "      <td>0.1</td>\n",
       "      <td>9.12</td>\n",
       "      <td>106.35</td>\n",
       "      <td>0.2</td>\n",
       "      <td>5.75</td>\n",
       "      <td>0.08</td>\n",
       "      <td>NaN</td>\n",
       "      <td>NaN</td>\n",
       "    </tr>\n",
       "  </tbody>\n",
       "</table>\n",
       "</div>"
      ],
      "text/plain": [
       "  StationId             Datetime  PM2.5    PM10    NO    NO2    NOx    NH3  \\\n",
       "0     AP001  2017-11-24 17:00:00  60.50   98.00  2.35  30.80  18.25   8.50   \n",
       "1     AP001  2017-11-24 18:00:00  65.50  111.25  2.70  24.20  15.07   9.77   \n",
       "2     AP001  2017-11-24 19:00:00  80.00  132.00  2.10  25.18  15.15  12.02   \n",
       "3     AP001  2017-11-24 20:00:00  81.50  133.25  1.95  16.25  10.23  11.58   \n",
       "4     AP001  2017-11-24 21:00:00  75.25  116.00  1.43  17.48  10.43  12.03   \n",
       "\n",
       "    CO    SO2      O3  Benzene  Toluene  Xylene  AQI AQI_Bucket  \n",
       "0  0.1  11.85  126.40      0.1     6.10    0.10  NaN        NaN  \n",
       "1  0.1  13.17  117.12      0.1     6.25    0.15  NaN        NaN  \n",
       "2  0.1  12.08   98.98      0.2     5.98    0.18  NaN        NaN  \n",
       "3  0.1  10.47  112.20      0.2     6.72    0.10  NaN        NaN  \n",
       "4  0.1   9.12  106.35      0.2     5.75    0.08  NaN        NaN  "
      ]
     },
     "execution_count": 56,
     "metadata": {},
     "output_type": "execute_result"
    }
   ],
   "source": [
    "df = pd.read_csv('../data/station_hour.csv')\n",
    "df.head()"
   ]
  },
  {
   "cell_type": "code",
   "execution_count": 22,
   "metadata": {},
   "outputs": [
    {
     "data": {
      "text/plain": [
       "10"
      ]
     },
     "execution_count": 22,
     "metadata": {},
     "output_type": "execute_result"
    }
   ],
   "source": [
    "features = ['StationId', 'Datetime', 'NO', 'CO', 'NO2', 'O3', 'NOx', 'Benzene', 'Toluene', 'AQI', 'PM2.5', 'NH3']\n",
    "len(features) - 2"
   ]
  },
  {
   "cell_type": "code",
   "execution_count": 58,
   "metadata": {},
   "outputs": [
    {
     "data": {
      "text/html": [
       "<div>\n",
       "<style scoped>\n",
       "    .dataframe tbody tr th:only-of-type {\n",
       "        vertical-align: middle;\n",
       "    }\n",
       "\n",
       "    .dataframe tbody tr th {\n",
       "        vertical-align: top;\n",
       "    }\n",
       "\n",
       "    .dataframe thead th {\n",
       "        text-align: right;\n",
       "    }\n",
       "</style>\n",
       "<table border=\"1\" class=\"dataframe\">\n",
       "  <thead>\n",
       "    <tr style=\"text-align: right;\">\n",
       "      <th></th>\n",
       "      <th>StationId</th>\n",
       "      <th>Datetime</th>\n",
       "      <th>NO</th>\n",
       "      <th>CO</th>\n",
       "      <th>NO2</th>\n",
       "      <th>O3</th>\n",
       "      <th>NOx</th>\n",
       "      <th>Benzene</th>\n",
       "      <th>Toluene</th>\n",
       "      <th>AQI</th>\n",
       "      <th>PM2.5</th>\n",
       "      <th>NH3</th>\n",
       "    </tr>\n",
       "  </thead>\n",
       "  <tbody>\n",
       "    <tr>\n",
       "      <th>16</th>\n",
       "      <td>AP001</td>\n",
       "      <td>2017-11-25 09:00:00</td>\n",
       "      <td>1.93</td>\n",
       "      <td>0.1</td>\n",
       "      <td>23.00</td>\n",
       "      <td>117.62</td>\n",
       "      <td>13.75</td>\n",
       "      <td>0.30</td>\n",
       "      <td>10.40</td>\n",
       "      <td>155.0</td>\n",
       "      <td>104.00</td>\n",
       "      <td>9.80</td>\n",
       "    </tr>\n",
       "    <tr>\n",
       "      <th>17</th>\n",
       "      <td>AP001</td>\n",
       "      <td>2017-11-25 10:00:00</td>\n",
       "      <td>1.33</td>\n",
       "      <td>0.1</td>\n",
       "      <td>16.25</td>\n",
       "      <td>136.23</td>\n",
       "      <td>9.75</td>\n",
       "      <td>0.28</td>\n",
       "      <td>7.10</td>\n",
       "      <td>159.0</td>\n",
       "      <td>94.50</td>\n",
       "      <td>9.65</td>\n",
       "    </tr>\n",
       "    <tr>\n",
       "      <th>18</th>\n",
       "      <td>AP001</td>\n",
       "      <td>2017-11-25 11:00:00</td>\n",
       "      <td>1.47</td>\n",
       "      <td>0.1</td>\n",
       "      <td>14.83</td>\n",
       "      <td>149.92</td>\n",
       "      <td>9.07</td>\n",
       "      <td>0.20</td>\n",
       "      <td>4.55</td>\n",
       "      <td>173.0</td>\n",
       "      <td>82.75</td>\n",
       "      <td>9.70</td>\n",
       "    </tr>\n",
       "    <tr>\n",
       "      <th>19</th>\n",
       "      <td>AP001</td>\n",
       "      <td>2017-11-25 12:00:00</td>\n",
       "      <td>5.30</td>\n",
       "      <td>0.1</td>\n",
       "      <td>21.15</td>\n",
       "      <td>156.80</td>\n",
       "      <td>15.53</td>\n",
       "      <td>0.20</td>\n",
       "      <td>4.00</td>\n",
       "      <td>184.0</td>\n",
       "      <td>79.00</td>\n",
       "      <td>9.40</td>\n",
       "    </tr>\n",
       "    <tr>\n",
       "      <th>21</th>\n",
       "      <td>AP001</td>\n",
       "      <td>2017-11-25 14:00:00</td>\n",
       "      <td>1.35</td>\n",
       "      <td>0.1</td>\n",
       "      <td>13.60</td>\n",
       "      <td>161.70</td>\n",
       "      <td>8.35</td>\n",
       "      <td>0.10</td>\n",
       "      <td>2.30</td>\n",
       "      <td>191.0</td>\n",
       "      <td>68.50</td>\n",
       "      <td>7.40</td>\n",
       "    </tr>\n",
       "  </tbody>\n",
       "</table>\n",
       "</div>"
      ],
      "text/plain": [
       "   StationId             Datetime    NO   CO    NO2      O3    NOx  Benzene  \\\n",
       "16     AP001  2017-11-25 09:00:00  1.93  0.1  23.00  117.62  13.75     0.30   \n",
       "17     AP001  2017-11-25 10:00:00  1.33  0.1  16.25  136.23   9.75     0.28   \n",
       "18     AP001  2017-11-25 11:00:00  1.47  0.1  14.83  149.92   9.07     0.20   \n",
       "19     AP001  2017-11-25 12:00:00  5.30  0.1  21.15  156.80  15.53     0.20   \n",
       "21     AP001  2017-11-25 14:00:00  1.35  0.1  13.60  161.70   8.35     0.10   \n",
       "\n",
       "    Toluene    AQI   PM2.5   NH3  \n",
       "16    10.40  155.0  104.00  9.80  \n",
       "17     7.10  159.0   94.50  9.65  \n",
       "18     4.55  173.0   82.75  9.70  \n",
       "19     4.00  184.0   79.00  9.40  \n",
       "21     2.30  191.0   68.50  7.40  "
      ]
     },
     "execution_count": 58,
     "metadata": {},
     "output_type": "execute_result"
    }
   ],
   "source": [
    "df = df[features].dropna()\n",
    "df.head()"
   ]
  },
  {
   "cell_type": "code",
   "execution_count": 59,
   "metadata": {},
   "outputs": [
    {
     "data": {
      "text/html": [
       "<div>\n",
       "<style scoped>\n",
       "    .dataframe tbody tr th:only-of-type {\n",
       "        vertical-align: middle;\n",
       "    }\n",
       "\n",
       "    .dataframe tbody tr th {\n",
       "        vertical-align: top;\n",
       "    }\n",
       "\n",
       "    .dataframe thead th {\n",
       "        text-align: right;\n",
       "    }\n",
       "</style>\n",
       "<table border=\"1\" class=\"dataframe\">\n",
       "  <thead>\n",
       "    <tr style=\"text-align: right;\">\n",
       "      <th></th>\n",
       "      <th>StationId</th>\n",
       "      <th>Datetime</th>\n",
       "      <th>NO</th>\n",
       "      <th>CO</th>\n",
       "      <th>NO2</th>\n",
       "      <th>O3</th>\n",
       "      <th>NOx</th>\n",
       "      <th>Benzene</th>\n",
       "      <th>Toluene</th>\n",
       "      <th>AQI</th>\n",
       "      <th>PM2.5</th>\n",
       "      <th>NH3</th>\n",
       "    </tr>\n",
       "  </thead>\n",
       "  <tbody>\n",
       "    <tr>\n",
       "      <th>0</th>\n",
       "      <td>AP001</td>\n",
       "      <td>2017-11-25 09:00:00</td>\n",
       "      <td>1.93</td>\n",
       "      <td>0.1</td>\n",
       "      <td>23.00</td>\n",
       "      <td>117.62</td>\n",
       "      <td>13.75</td>\n",
       "      <td>0.30</td>\n",
       "      <td>10.40</td>\n",
       "      <td>155.0</td>\n",
       "      <td>104.00</td>\n",
       "      <td>9.80</td>\n",
       "    </tr>\n",
       "    <tr>\n",
       "      <th>1</th>\n",
       "      <td>AP001</td>\n",
       "      <td>2017-11-25 10:00:00</td>\n",
       "      <td>1.33</td>\n",
       "      <td>0.1</td>\n",
       "      <td>16.25</td>\n",
       "      <td>136.23</td>\n",
       "      <td>9.75</td>\n",
       "      <td>0.28</td>\n",
       "      <td>7.10</td>\n",
       "      <td>159.0</td>\n",
       "      <td>94.50</td>\n",
       "      <td>9.65</td>\n",
       "    </tr>\n",
       "    <tr>\n",
       "      <th>2</th>\n",
       "      <td>AP001</td>\n",
       "      <td>2017-11-25 11:00:00</td>\n",
       "      <td>1.47</td>\n",
       "      <td>0.1</td>\n",
       "      <td>14.83</td>\n",
       "      <td>149.92</td>\n",
       "      <td>9.07</td>\n",
       "      <td>0.20</td>\n",
       "      <td>4.55</td>\n",
       "      <td>173.0</td>\n",
       "      <td>82.75</td>\n",
       "      <td>9.70</td>\n",
       "    </tr>\n",
       "    <tr>\n",
       "      <th>3</th>\n",
       "      <td>AP001</td>\n",
       "      <td>2017-11-25 12:00:00</td>\n",
       "      <td>5.30</td>\n",
       "      <td>0.1</td>\n",
       "      <td>21.15</td>\n",
       "      <td>156.80</td>\n",
       "      <td>15.53</td>\n",
       "      <td>0.20</td>\n",
       "      <td>4.00</td>\n",
       "      <td>184.0</td>\n",
       "      <td>79.00</td>\n",
       "      <td>9.40</td>\n",
       "    </tr>\n",
       "    <tr>\n",
       "      <th>4</th>\n",
       "      <td>AP001</td>\n",
       "      <td>2017-11-25 14:00:00</td>\n",
       "      <td>1.35</td>\n",
       "      <td>0.1</td>\n",
       "      <td>13.60</td>\n",
       "      <td>161.70</td>\n",
       "      <td>8.35</td>\n",
       "      <td>0.10</td>\n",
       "      <td>2.30</td>\n",
       "      <td>191.0</td>\n",
       "      <td>68.50</td>\n",
       "      <td>7.40</td>\n",
       "    </tr>\n",
       "  </tbody>\n",
       "</table>\n",
       "</div>"
      ],
      "text/plain": [
       "  StationId             Datetime    NO   CO    NO2      O3    NOx  Benzene  \\\n",
       "0     AP001  2017-11-25 09:00:00  1.93  0.1  23.00  117.62  13.75     0.30   \n",
       "1     AP001  2017-11-25 10:00:00  1.33  0.1  16.25  136.23   9.75     0.28   \n",
       "2     AP001  2017-11-25 11:00:00  1.47  0.1  14.83  149.92   9.07     0.20   \n",
       "3     AP001  2017-11-25 12:00:00  5.30  0.1  21.15  156.80  15.53     0.20   \n",
       "4     AP001  2017-11-25 14:00:00  1.35  0.1  13.60  161.70   8.35     0.10   \n",
       "\n",
       "   Toluene    AQI   PM2.5   NH3  \n",
       "0    10.40  155.0  104.00  9.80  \n",
       "1     7.10  159.0   94.50  9.65  \n",
       "2     4.55  173.0   82.75  9.70  \n",
       "3     4.00  184.0   79.00  9.40  \n",
       "4     2.30  191.0   68.50  7.40  "
      ]
     },
     "execution_count": 59,
     "metadata": {},
     "output_type": "execute_result"
    }
   ],
   "source": [
    "df.reset_index(drop=True, inplace=True)\n",
    "df.head()"
   ]
  },
  {
   "cell_type": "code",
   "execution_count": 60,
   "metadata": {},
   "outputs": [
    {
     "data": {
      "text/html": [
       "<div>\n",
       "<style scoped>\n",
       "    .dataframe tbody tr th:only-of-type {\n",
       "        vertical-align: middle;\n",
       "    }\n",
       "\n",
       "    .dataframe tbody tr th {\n",
       "        vertical-align: top;\n",
       "    }\n",
       "\n",
       "    .dataframe thead th {\n",
       "        text-align: right;\n",
       "    }\n",
       "</style>\n",
       "<table border=\"1\" class=\"dataframe\">\n",
       "  <thead>\n",
       "    <tr style=\"text-align: right;\">\n",
       "      <th></th>\n",
       "      <th>Datetime</th>\n",
       "      <th>NO</th>\n",
       "      <th>CO</th>\n",
       "      <th>NO2</th>\n",
       "      <th>O3</th>\n",
       "      <th>NOx</th>\n",
       "      <th>Benzene</th>\n",
       "      <th>Toluene</th>\n",
       "      <th>AQI</th>\n",
       "      <th>PM2.5</th>\n",
       "      <th>NH3</th>\n",
       "    </tr>\n",
       "  </thead>\n",
       "  <tbody>\n",
       "    <tr>\n",
       "      <th>0</th>\n",
       "      <td>2015-04-05 02:00:00</td>\n",
       "      <td>8.665</td>\n",
       "      <td>0.715</td>\n",
       "      <td>50.120</td>\n",
       "      <td>43.880</td>\n",
       "      <td>56.605</td>\n",
       "      <td>2.245</td>\n",
       "      <td>8.720</td>\n",
       "      <td>269.0</td>\n",
       "      <td>64.315</td>\n",
       "      <td>36.710</td>\n",
       "    </tr>\n",
       "    <tr>\n",
       "      <th>1</th>\n",
       "      <td>2015-04-05 03:00:00</td>\n",
       "      <td>11.000</td>\n",
       "      <td>0.875</td>\n",
       "      <td>50.735</td>\n",
       "      <td>44.930</td>\n",
       "      <td>62.195</td>\n",
       "      <td>2.705</td>\n",
       "      <td>11.130</td>\n",
       "      <td>248.5</td>\n",
       "      <td>67.415</td>\n",
       "      <td>34.555</td>\n",
       "    </tr>\n",
       "    <tr>\n",
       "      <th>2</th>\n",
       "      <td>2015-04-05 04:00:00</td>\n",
       "      <td>8.565</td>\n",
       "      <td>0.955</td>\n",
       "      <td>45.135</td>\n",
       "      <td>64.470</td>\n",
       "      <td>53.585</td>\n",
       "      <td>3.290</td>\n",
       "      <td>13.935</td>\n",
       "      <td>251.0</td>\n",
       "      <td>59.835</td>\n",
       "      <td>36.360</td>\n",
       "    </tr>\n",
       "    <tr>\n",
       "      <th>3</th>\n",
       "      <td>2015-04-05 05:00:00</td>\n",
       "      <td>7.680</td>\n",
       "      <td>0.795</td>\n",
       "      <td>35.390</td>\n",
       "      <td>49.535</td>\n",
       "      <td>42.720</td>\n",
       "      <td>4.075</td>\n",
       "      <td>18.015</td>\n",
       "      <td>253.5</td>\n",
       "      <td>74.330</td>\n",
       "      <td>31.680</td>\n",
       "    </tr>\n",
       "    <tr>\n",
       "      <th>4</th>\n",
       "      <td>2015-04-05 06:00:00</td>\n",
       "      <td>8.410</td>\n",
       "      <td>1.215</td>\n",
       "      <td>35.815</td>\n",
       "      <td>46.155</td>\n",
       "      <td>43.375</td>\n",
       "      <td>4.895</td>\n",
       "      <td>15.110</td>\n",
       "      <td>256.5</td>\n",
       "      <td>82.000</td>\n",
       "      <td>33.530</td>\n",
       "    </tr>\n",
       "  </tbody>\n",
       "</table>\n",
       "</div>"
      ],
      "text/plain": [
       "              Datetime      NO     CO     NO2      O3     NOx  Benzene  \\\n",
       "0  2015-04-05 02:00:00   8.665  0.715  50.120  43.880  56.605    2.245   \n",
       "1  2015-04-05 03:00:00  11.000  0.875  50.735  44.930  62.195    2.705   \n",
       "2  2015-04-05 04:00:00   8.565  0.955  45.135  64.470  53.585    3.290   \n",
       "3  2015-04-05 05:00:00   7.680  0.795  35.390  49.535  42.720    4.075   \n",
       "4  2015-04-05 06:00:00   8.410  1.215  35.815  46.155  43.375    4.895   \n",
       "\n",
       "   Toluene    AQI   PM2.5     NH3  \n",
       "0    8.720  269.0  64.315  36.710  \n",
       "1   11.130  248.5  67.415  34.555  \n",
       "2   13.935  251.0  59.835  36.360  \n",
       "3   18.015  253.5  74.330  31.680  \n",
       "4   15.110  256.5  82.000  33.530  "
      ]
     },
     "execution_count": 60,
     "metadata": {},
     "output_type": "execute_result"
    }
   ],
   "source": [
    "df = df.groupby('Datetime', as_index=False).mean()\n",
    "df.head()"
   ]
  },
  {
   "cell_type": "code",
   "execution_count": 61,
   "metadata": {},
   "outputs": [],
   "source": [
    "df.to_csv('../data/lw3.csv')"
   ]
  },
  {
   "cell_type": "code",
   "execution_count": 3,
   "metadata": {},
   "outputs": [
    {
     "data": {
      "text/html": [
       "<div>\n",
       "<style scoped>\n",
       "    .dataframe tbody tr th:only-of-type {\n",
       "        vertical-align: middle;\n",
       "    }\n",
       "\n",
       "    .dataframe tbody tr th {\n",
       "        vertical-align: top;\n",
       "    }\n",
       "\n",
       "    .dataframe thead th {\n",
       "        text-align: right;\n",
       "    }\n",
       "</style>\n",
       "<table border=\"1\" class=\"dataframe\">\n",
       "  <thead>\n",
       "    <tr style=\"text-align: right;\">\n",
       "      <th></th>\n",
       "      <th>Datetime</th>\n",
       "      <th>NO</th>\n",
       "      <th>CO</th>\n",
       "      <th>NO2</th>\n",
       "      <th>O3</th>\n",
       "      <th>NOx</th>\n",
       "      <th>Benzene</th>\n",
       "      <th>Toluene</th>\n",
       "      <th>AQI</th>\n",
       "      <th>PM2.5</th>\n",
       "      <th>NH3</th>\n",
       "    </tr>\n",
       "  </thead>\n",
       "  <tbody>\n",
       "    <tr>\n",
       "      <th>0</th>\n",
       "      <td>2015-04-05 02:00:00</td>\n",
       "      <td>8.665</td>\n",
       "      <td>0.715</td>\n",
       "      <td>50.120</td>\n",
       "      <td>43.880</td>\n",
       "      <td>56.605</td>\n",
       "      <td>2.245</td>\n",
       "      <td>8.720</td>\n",
       "      <td>269.0</td>\n",
       "      <td>64.315</td>\n",
       "      <td>36.710</td>\n",
       "    </tr>\n",
       "    <tr>\n",
       "      <th>1</th>\n",
       "      <td>2015-04-05 03:00:00</td>\n",
       "      <td>11.000</td>\n",
       "      <td>0.875</td>\n",
       "      <td>50.735</td>\n",
       "      <td>44.930</td>\n",
       "      <td>62.195</td>\n",
       "      <td>2.705</td>\n",
       "      <td>11.130</td>\n",
       "      <td>248.5</td>\n",
       "      <td>67.415</td>\n",
       "      <td>34.555</td>\n",
       "    </tr>\n",
       "    <tr>\n",
       "      <th>2</th>\n",
       "      <td>2015-04-05 04:00:00</td>\n",
       "      <td>8.565</td>\n",
       "      <td>0.955</td>\n",
       "      <td>45.135</td>\n",
       "      <td>64.470</td>\n",
       "      <td>53.585</td>\n",
       "      <td>3.290</td>\n",
       "      <td>13.935</td>\n",
       "      <td>251.0</td>\n",
       "      <td>59.835</td>\n",
       "      <td>36.360</td>\n",
       "    </tr>\n",
       "    <tr>\n",
       "      <th>3</th>\n",
       "      <td>2015-04-05 05:00:00</td>\n",
       "      <td>7.680</td>\n",
       "      <td>0.795</td>\n",
       "      <td>35.390</td>\n",
       "      <td>49.535</td>\n",
       "      <td>42.720</td>\n",
       "      <td>4.075</td>\n",
       "      <td>18.015</td>\n",
       "      <td>253.5</td>\n",
       "      <td>74.330</td>\n",
       "      <td>31.680</td>\n",
       "    </tr>\n",
       "    <tr>\n",
       "      <th>4</th>\n",
       "      <td>2015-04-05 06:00:00</td>\n",
       "      <td>8.410</td>\n",
       "      <td>1.215</td>\n",
       "      <td>35.815</td>\n",
       "      <td>46.155</td>\n",
       "      <td>43.375</td>\n",
       "      <td>4.895</td>\n",
       "      <td>15.110</td>\n",
       "      <td>256.5</td>\n",
       "      <td>82.000</td>\n",
       "      <td>33.530</td>\n",
       "    </tr>\n",
       "  </tbody>\n",
       "</table>\n",
       "</div>"
      ],
      "text/plain": [
       "              Datetime      NO     CO     NO2      O3     NOx  Benzene  \\\n",
       "0  2015-04-05 02:00:00   8.665  0.715  50.120  43.880  56.605    2.245   \n",
       "1  2015-04-05 03:00:00  11.000  0.875  50.735  44.930  62.195    2.705   \n",
       "2  2015-04-05 04:00:00   8.565  0.955  45.135  64.470  53.585    3.290   \n",
       "3  2015-04-05 05:00:00   7.680  0.795  35.390  49.535  42.720    4.075   \n",
       "4  2015-04-05 06:00:00   8.410  1.215  35.815  46.155  43.375    4.895   \n",
       "\n",
       "   Toluene    AQI   PM2.5     NH3  \n",
       "0    8.720  269.0  64.315  36.710  \n",
       "1   11.130  248.5  67.415  34.555  \n",
       "2   13.935  251.0  59.835  36.360  \n",
       "3   18.015  253.5  74.330  31.680  \n",
       "4   15.110  256.5  82.000  33.530  "
      ]
     },
     "execution_count": 3,
     "metadata": {},
     "output_type": "execute_result"
    }
   ],
   "source": [
    "df = pd.read_csv('../data/lw3.csv')\n",
    "df.drop('Unnamed: 0', axis=1, inplace=True)\n",
    "df.head()"
   ]
  },
  {
   "cell_type": "code",
   "execution_count": 23,
   "metadata": {},
   "outputs": [
    {
     "data": {
      "text/plain": [
       "['NO', 'CO', 'NO2', 'O3', 'NOx', 'Benzene', 'Toluene', 'AQI', 'PM2.5', 'NH3']"
      ]
     },
     "execution_count": 23,
     "metadata": {},
     "output_type": "execute_result"
    }
   ],
   "source": [
    "continues_fields = features[2:]\n",
    "continues_fields"
   ]
  },
  {
   "cell_type": "code",
   "execution_count": 25,
   "metadata": {},
   "outputs": [
    {
     "data": {
      "text/html": [
       "<div>\n",
       "<style scoped>\n",
       "    .dataframe tbody tr th:only-of-type {\n",
       "        vertical-align: middle;\n",
       "    }\n",
       "\n",
       "    .dataframe tbody tr th {\n",
       "        vertical-align: top;\n",
       "    }\n",
       "\n",
       "    .dataframe thead th {\n",
       "        text-align: right;\n",
       "    }\n",
       "</style>\n",
       "<table border=\"1\" class=\"dataframe\">\n",
       "  <thead>\n",
       "    <tr style=\"text-align: right;\">\n",
       "      <th></th>\n",
       "      <th>NO</th>\n",
       "      <th>CO</th>\n",
       "      <th>NO2</th>\n",
       "      <th>O3</th>\n",
       "      <th>NOx</th>\n",
       "      <th>Benzene</th>\n",
       "      <th>Toluene</th>\n",
       "      <th>AQI</th>\n",
       "      <th>PM2.5</th>\n",
       "      <th>NH3</th>\n",
       "    </tr>\n",
       "  </thead>\n",
       "  <tbody>\n",
       "    <tr>\n",
       "      <th>0</th>\n",
       "      <td>8.665</td>\n",
       "      <td>0.715</td>\n",
       "      <td>50.120</td>\n",
       "      <td>43.880</td>\n",
       "      <td>56.605</td>\n",
       "      <td>2.245</td>\n",
       "      <td>8.720</td>\n",
       "      <td>269.0</td>\n",
       "      <td>64.315</td>\n",
       "      <td>36.710</td>\n",
       "    </tr>\n",
       "    <tr>\n",
       "      <th>1</th>\n",
       "      <td>11.000</td>\n",
       "      <td>0.875</td>\n",
       "      <td>50.735</td>\n",
       "      <td>44.930</td>\n",
       "      <td>62.195</td>\n",
       "      <td>2.705</td>\n",
       "      <td>11.130</td>\n",
       "      <td>248.5</td>\n",
       "      <td>67.415</td>\n",
       "      <td>34.555</td>\n",
       "    </tr>\n",
       "    <tr>\n",
       "      <th>2</th>\n",
       "      <td>8.565</td>\n",
       "      <td>0.955</td>\n",
       "      <td>45.135</td>\n",
       "      <td>64.470</td>\n",
       "      <td>53.585</td>\n",
       "      <td>3.290</td>\n",
       "      <td>13.935</td>\n",
       "      <td>251.0</td>\n",
       "      <td>59.835</td>\n",
       "      <td>36.360</td>\n",
       "    </tr>\n",
       "    <tr>\n",
       "      <th>3</th>\n",
       "      <td>7.680</td>\n",
       "      <td>0.795</td>\n",
       "      <td>35.390</td>\n",
       "      <td>49.535</td>\n",
       "      <td>42.720</td>\n",
       "      <td>4.075</td>\n",
       "      <td>18.015</td>\n",
       "      <td>253.5</td>\n",
       "      <td>74.330</td>\n",
       "      <td>31.680</td>\n",
       "    </tr>\n",
       "    <tr>\n",
       "      <th>4</th>\n",
       "      <td>8.410</td>\n",
       "      <td>1.215</td>\n",
       "      <td>35.815</td>\n",
       "      <td>46.155</td>\n",
       "      <td>43.375</td>\n",
       "      <td>4.895</td>\n",
       "      <td>15.110</td>\n",
       "      <td>256.5</td>\n",
       "      <td>82.000</td>\n",
       "      <td>33.530</td>\n",
       "    </tr>\n",
       "  </tbody>\n",
       "</table>\n",
       "</div>"
      ],
      "text/plain": [
       "       NO     CO     NO2      O3     NOx  Benzene  Toluene    AQI   PM2.5  \\\n",
       "0   8.665  0.715  50.120  43.880  56.605    2.245    8.720  269.0  64.315   \n",
       "1  11.000  0.875  50.735  44.930  62.195    2.705   11.130  248.5  67.415   \n",
       "2   8.565  0.955  45.135  64.470  53.585    3.290   13.935  251.0  59.835   \n",
       "3   7.680  0.795  35.390  49.535  42.720    4.075   18.015  253.5  74.330   \n",
       "4   8.410  1.215  35.815  46.155  43.375    4.895   15.110  256.5  82.000   \n",
       "\n",
       "      NH3  \n",
       "0  36.710  \n",
       "1  34.555  \n",
       "2  36.360  \n",
       "3  31.680  \n",
       "4  33.530  "
      ]
     },
     "execution_count": 25,
     "metadata": {},
     "output_type": "execute_result"
    }
   ],
   "source": [
    "df_cont = df[continues_fields]\n",
    "df_cont.head()"
   ]
  },
  {
   "cell_type": "code",
   "execution_count": 7,
   "metadata": {},
   "outputs": [],
   "source": [
    "from scipy.stats import zscore\n",
    "\n",
    "z_scores = zscore(df[continues_fields])\n",
    "# calculate z-scores of `df`\n",
    "\n",
    "abs_z_scores = np.abs(z_scores)\n",
    "filtered_entries = (abs_z_scores < 3).all(axis=1)\n",
    "df_no_outliers = df[filtered_entries]"
   ]
  },
  {
   "cell_type": "code",
   "execution_count": 65,
   "metadata": {},
   "outputs": [],
   "source": [
    "df_no_outliers.to_csv('../data/lw3_no_outliers.csv')"
   ]
  },
  {
   "cell_type": "code",
   "execution_count": 24,
   "metadata": {},
   "outputs": [
    {
     "data": {
      "text/html": [
       "<div>\n",
       "<style scoped>\n",
       "    .dataframe tbody tr th:only-of-type {\n",
       "        vertical-align: middle;\n",
       "    }\n",
       "\n",
       "    .dataframe tbody tr th {\n",
       "        vertical-align: top;\n",
       "    }\n",
       "\n",
       "    .dataframe thead th {\n",
       "        text-align: right;\n",
       "    }\n",
       "</style>\n",
       "<table border=\"1\" class=\"dataframe\">\n",
       "  <thead>\n",
       "    <tr style=\"text-align: right;\">\n",
       "      <th></th>\n",
       "      <th>Datetime</th>\n",
       "      <th>NO</th>\n",
       "      <th>CO</th>\n",
       "      <th>NO2</th>\n",
       "      <th>O3</th>\n",
       "      <th>NOx</th>\n",
       "      <th>Benzene</th>\n",
       "      <th>Toluene</th>\n",
       "      <th>AQI</th>\n",
       "      <th>PM2.5</th>\n",
       "      <th>NH3</th>\n",
       "    </tr>\n",
       "  </thead>\n",
       "  <tbody>\n",
       "    <tr>\n",
       "      <th>0</th>\n",
       "      <td>2015-04-05 02:00:00</td>\n",
       "      <td>8.665</td>\n",
       "      <td>0.715</td>\n",
       "      <td>50.120</td>\n",
       "      <td>43.880</td>\n",
       "      <td>56.605</td>\n",
       "      <td>2.245</td>\n",
       "      <td>8.720</td>\n",
       "      <td>269.0</td>\n",
       "      <td>64.315</td>\n",
       "      <td>36.710</td>\n",
       "    </tr>\n",
       "    <tr>\n",
       "      <th>1</th>\n",
       "      <td>2015-04-05 03:00:00</td>\n",
       "      <td>11.000</td>\n",
       "      <td>0.875</td>\n",
       "      <td>50.735</td>\n",
       "      <td>44.930</td>\n",
       "      <td>62.195</td>\n",
       "      <td>2.705</td>\n",
       "      <td>11.130</td>\n",
       "      <td>248.5</td>\n",
       "      <td>67.415</td>\n",
       "      <td>34.555</td>\n",
       "    </tr>\n",
       "    <tr>\n",
       "      <th>2</th>\n",
       "      <td>2015-04-05 04:00:00</td>\n",
       "      <td>8.565</td>\n",
       "      <td>0.955</td>\n",
       "      <td>45.135</td>\n",
       "      <td>64.470</td>\n",
       "      <td>53.585</td>\n",
       "      <td>3.290</td>\n",
       "      <td>13.935</td>\n",
       "      <td>251.0</td>\n",
       "      <td>59.835</td>\n",
       "      <td>36.360</td>\n",
       "    </tr>\n",
       "    <tr>\n",
       "      <th>3</th>\n",
       "      <td>2015-04-05 05:00:00</td>\n",
       "      <td>7.680</td>\n",
       "      <td>0.795</td>\n",
       "      <td>35.390</td>\n",
       "      <td>49.535</td>\n",
       "      <td>42.720</td>\n",
       "      <td>4.075</td>\n",
       "      <td>18.015</td>\n",
       "      <td>253.5</td>\n",
       "      <td>74.330</td>\n",
       "      <td>31.680</td>\n",
       "    </tr>\n",
       "    <tr>\n",
       "      <th>4</th>\n",
       "      <td>2015-04-05 06:00:00</td>\n",
       "      <td>8.410</td>\n",
       "      <td>1.215</td>\n",
       "      <td>35.815</td>\n",
       "      <td>46.155</td>\n",
       "      <td>43.375</td>\n",
       "      <td>4.895</td>\n",
       "      <td>15.110</td>\n",
       "      <td>256.5</td>\n",
       "      <td>82.000</td>\n",
       "      <td>33.530</td>\n",
       "    </tr>\n",
       "  </tbody>\n",
       "</table>\n",
       "</div>"
      ],
      "text/plain": [
       "              Datetime      NO     CO     NO2      O3     NOx  Benzene  \\\n",
       "0  2015-04-05 02:00:00   8.665  0.715  50.120  43.880  56.605    2.245   \n",
       "1  2015-04-05 03:00:00  11.000  0.875  50.735  44.930  62.195    2.705   \n",
       "2  2015-04-05 04:00:00   8.565  0.955  45.135  64.470  53.585    3.290   \n",
       "3  2015-04-05 05:00:00   7.680  0.795  35.390  49.535  42.720    4.075   \n",
       "4  2015-04-05 06:00:00   8.410  1.215  35.815  46.155  43.375    4.895   \n",
       "\n",
       "   Toluene    AQI   PM2.5     NH3  \n",
       "0    8.720  269.0  64.315  36.710  \n",
       "1   11.130  248.5  67.415  34.555  \n",
       "2   13.935  251.0  59.835  36.360  \n",
       "3   18.015  253.5  74.330  31.680  \n",
       "4   15.110  256.5  82.000  33.530  "
      ]
     },
     "execution_count": 24,
     "metadata": {},
     "output_type": "execute_result"
    }
   ],
   "source": [
    "df = pd.read_csv('../data/lw3_no_outliers.csv')\n",
    "df.drop('Unnamed: 0', axis=1, inplace=True)\n",
    "df.head()"
   ]
  },
  {
   "cell_type": "code",
   "execution_count": 26,
   "metadata": {},
   "outputs": [
    {
     "data": {
      "text/plain": [
       "['CO', 'Toluene', 'O3', 'Benzene', 'NH3', 'PM2.5', 'NO2']"
      ]
     },
     "execution_count": 26,
     "metadata": {},
     "output_type": "execute_result"
    }
   ],
   "source": [
    "targets = ['AQI', 'NO', 'NOx']\n",
    "predictors = list(set(continues_fields) - set(targets))\n",
    "predictors"
   ]
  },
  {
   "cell_type": "code",
   "execution_count": 27,
   "metadata": {},
   "outputs": [
    {
     "data": {
      "text/plain": [
       "NO         40677\n",
       "CO         40677\n",
       "NO2        40677\n",
       "O3         40677\n",
       "NOx        40677\n",
       "Benzene    40677\n",
       "Toluene    40677\n",
       "AQI        40677\n",
       "PM2.5      40677\n",
       "NH3        40677\n",
       "dtype: int64"
      ]
     },
     "execution_count": 27,
     "metadata": {},
     "output_type": "execute_result"
    }
   ],
   "source": [
    "df_cont.count()"
   ]
  },
  {
   "cell_type": "markdown",
   "metadata": {},
   "source": [
    "# Values sampling\n",
    "We will used distribution estimation for target variables that was obtained in LW1"
   ]
  },
  {
   "cell_type": "code",
   "execution_count": 11,
   "metadata": {},
   "outputs": [
    {
     "data": {
      "text/html": [
       "<div>\n",
       "<style scoped>\n",
       "    .dataframe tbody tr th:only-of-type {\n",
       "        vertical-align: middle;\n",
       "    }\n",
       "\n",
       "    .dataframe tbody tr th {\n",
       "        vertical-align: top;\n",
       "    }\n",
       "\n",
       "    .dataframe thead th {\n",
       "        text-align: right;\n",
       "    }\n",
       "</style>\n",
       "<table border=\"1\" class=\"dataframe\">\n",
       "  <thead>\n",
       "    <tr style=\"text-align: right;\">\n",
       "      <th></th>\n",
       "      <th>Unnamed: 0</th>\n",
       "      <th>NOx</th>\n",
       "      <th>NO</th>\n",
       "      <th>NO2</th>\n",
       "    </tr>\n",
       "  </thead>\n",
       "  <tbody>\n",
       "    <tr>\n",
       "      <th>0</th>\n",
       "      <td>a</td>\n",
       "      <td>1.558624</td>\n",
       "      <td>1.527071</td>\n",
       "      <td>2.567387</td>\n",
       "    </tr>\n",
       "    <tr>\n",
       "      <th>1</th>\n",
       "      <td>loc</td>\n",
       "      <td>8.895373</td>\n",
       "      <td>0.121340</td>\n",
       "      <td>6.720913</td>\n",
       "    </tr>\n",
       "    <tr>\n",
       "      <th>2</th>\n",
       "      <td>scale</td>\n",
       "      <td>20.590173</td>\n",
       "      <td>9.195603</td>\n",
       "      <td>10.605425</td>\n",
       "    </tr>\n",
       "  </tbody>\n",
       "</table>\n",
       "</div>"
      ],
      "text/plain": [
       "  Unnamed: 0        NOx        NO        NO2\n",
       "0          a   1.558624  1.527071   2.567387\n",
       "1        loc   8.895373  0.121340   6.720913\n",
       "2      scale  20.590173  9.195603  10.605425"
      ]
     },
     "execution_count": 11,
     "metadata": {},
     "output_type": "execute_result"
    }
   ],
   "source": [
    "params = pd.read_csv('../data/params.csv')\n",
    "params.head()"
   ]
  },
  {
   "cell_type": "code",
   "execution_count": 12,
   "metadata": {},
   "outputs": [],
   "source": [
    "from scipy import optimize"
   ]
  },
  {
   "cell_type": "code",
   "execution_count": 15,
   "metadata": {},
   "outputs": [],
   "source": [
    "def inv_cdf(p, cdf, x0, x1):\n",
    "    res = optimize.root_scalar(lambda x: cdf(x) - p, x0=x0, x1=x1)\n",
    "    return res.root"
   ]
  },
  {
   "cell_type": "code",
   "execution_count": 19,
   "metadata": {},
   "outputs": [
    {
     "name": "stderr",
     "output_type": "stream",
     "text": [
      "/home/ryazmax/dls/venv/lib/python3.8/site-packages/scipy/optimize/zeros.py:341: RuntimeWarning: Tolerance of 60.5158761671928 reached.\n",
      "  warnings.warn(msg, RuntimeWarning)\n",
      "/home/ryazmax/dls/venv/lib/python3.8/site-packages/scipy/optimize/zeros.py:341: RuntimeWarning: Tolerance of 1.895773689215564 reached.\n",
      "  warnings.warn(msg, RuntimeWarning)\n",
      "/home/ryazmax/dls/venv/lib/python3.8/site-packages/scipy/optimize/zeros.py:341: RuntimeWarning: Tolerance of 1.700362815491695 reached.\n",
      "  warnings.warn(msg, RuntimeWarning)\n",
      "/home/ryazmax/dls/venv/lib/python3.8/site-packages/scipy/optimize/zeros.py:341: RuntimeWarning: Tolerance of 0.6512778186517783 reached.\n",
      "  warnings.warn(msg, RuntimeWarning)\n",
      "/home/ryazmax/dls/venv/lib/python3.8/site-packages/scipy/optimize/zeros.py:341: RuntimeWarning: Tolerance of 1.034512159905261 reached.\n",
      "  warnings.warn(msg, RuntimeWarning)\n",
      "/home/ryazmax/dls/venv/lib/python3.8/site-packages/scipy/optimize/zeros.py:341: RuntimeWarning: Tolerance of 0.5801974448643126 reached.\n",
      "  warnings.warn(msg, RuntimeWarning)\n",
      "/home/ryazmax/dls/venv/lib/python3.8/site-packages/scipy/optimize/zeros.py:341: RuntimeWarning: Tolerance of 0.21439379584721774 reached.\n",
      "  warnings.warn(msg, RuntimeWarning)\n",
      "/home/ryazmax/dls/venv/lib/python3.8/site-packages/scipy/optimize/zeros.py:341: RuntimeWarning: Tolerance of 17.619618419644084 reached.\n",
      "  warnings.warn(msg, RuntimeWarning)\n",
      "/home/ryazmax/dls/venv/lib/python3.8/site-packages/scipy/optimize/zeros.py:341: RuntimeWarning: Tolerance of 1.159332187116693 reached.\n",
      "  warnings.warn(msg, RuntimeWarning)\n",
      "/home/ryazmax/dls/venv/lib/python3.8/site-packages/scipy/optimize/zeros.py:341: RuntimeWarning: Tolerance of 1.959674533582554 reached.\n",
      "  warnings.warn(msg, RuntimeWarning)\n",
      "/home/ryazmax/dls/venv/lib/python3.8/site-packages/scipy/optimize/zeros.py:341: RuntimeWarning: Tolerance of 0.8053133946213715 reached.\n",
      "  warnings.warn(msg, RuntimeWarning)\n",
      "/home/ryazmax/dls/venv/lib/python3.8/site-packages/scipy/optimize/zeros.py:341: RuntimeWarning: Tolerance of 1.7712134958957666 reached.\n",
      "  warnings.warn(msg, RuntimeWarning)\n",
      "/home/ryazmax/dls/venv/lib/python3.8/site-packages/scipy/optimize/zeros.py:341: RuntimeWarning: Tolerance of 0.8575491007826996 reached.\n",
      "  warnings.warn(msg, RuntimeWarning)\n",
      "/home/ryazmax/dls/venv/lib/python3.8/site-packages/scipy/optimize/zeros.py:341: RuntimeWarning: Tolerance of 0.02721421460376572 reached.\n",
      "  warnings.warn(msg, RuntimeWarning)\n",
      "/home/ryazmax/dls/venv/lib/python3.8/site-packages/scipy/optimize/zeros.py:341: RuntimeWarning: Tolerance of 1.1542719738587552 reached.\n",
      "  warnings.warn(msg, RuntimeWarning)\n",
      "/home/ryazmax/dls/venv/lib/python3.8/site-packages/scipy/optimize/zeros.py:341: RuntimeWarning: Tolerance of 0.19828015666892318 reached.\n",
      "  warnings.warn(msg, RuntimeWarning)\n",
      "/home/ryazmax/dls/venv/lib/python3.8/site-packages/scipy/optimize/zeros.py:341: RuntimeWarning: Tolerance of 0.013907085522975926 reached.\n",
      "  warnings.warn(msg, RuntimeWarning)\n",
      "/home/ryazmax/dls/venv/lib/python3.8/site-packages/scipy/optimize/zeros.py:341: RuntimeWarning: Tolerance of 1.794897513491059 reached.\n",
      "  warnings.warn(msg, RuntimeWarning)\n",
      "/home/ryazmax/dls/venv/lib/python3.8/site-packages/scipy/optimize/zeros.py:341: RuntimeWarning: Tolerance of 6.442345204441018 reached.\n",
      "  warnings.warn(msg, RuntimeWarning)\n",
      "/home/ryazmax/dls/venv/lib/python3.8/site-packages/scipy/optimize/zeros.py:341: RuntimeWarning: Tolerance of 1.8130244859568085 reached.\n",
      "  warnings.warn(msg, RuntimeWarning)\n",
      "/home/ryazmax/dls/venv/lib/python3.8/site-packages/scipy/optimize/zeros.py:341: RuntimeWarning: Tolerance of 0.9279100701209257 reached.\n",
      "  warnings.warn(msg, RuntimeWarning)\n",
      "/home/ryazmax/dls/venv/lib/python3.8/site-packages/scipy/optimize/zeros.py:341: RuntimeWarning: Tolerance of 0.27622397954126754 reached.\n",
      "  warnings.warn(msg, RuntimeWarning)\n",
      "/home/ryazmax/dls/venv/lib/python3.8/site-packages/scipy/optimize/zeros.py:341: RuntimeWarning: Tolerance of 1.610972328210368 reached.\n",
      "  warnings.warn(msg, RuntimeWarning)\n",
      "/home/ryazmax/dls/venv/lib/python3.8/site-packages/scipy/optimize/zeros.py:341: RuntimeWarning: Tolerance of 1.780237085295177 reached.\n",
      "  warnings.warn(msg, RuntimeWarning)\n",
      "/home/ryazmax/dls/venv/lib/python3.8/site-packages/scipy/optimize/zeros.py:341: RuntimeWarning: Tolerance of 0.7675150083202653 reached.\n",
      "  warnings.warn(msg, RuntimeWarning)\n",
      "/home/ryazmax/dls/venv/lib/python3.8/site-packages/scipy/optimize/zeros.py:341: RuntimeWarning: Tolerance of 0.6945612406894925 reached.\n",
      "  warnings.warn(msg, RuntimeWarning)\n",
      "/home/ryazmax/dls/venv/lib/python3.8/site-packages/scipy/optimize/zeros.py:341: RuntimeWarning: Tolerance of 1.7579171725760978 reached.\n",
      "  warnings.warn(msg, RuntimeWarning)\n",
      "/home/ryazmax/dls/venv/lib/python3.8/site-packages/scipy/optimize/zeros.py:341: RuntimeWarning: Tolerance of 1.63535586471893 reached.\n",
      "  warnings.warn(msg, RuntimeWarning)\n",
      "/home/ryazmax/dls/venv/lib/python3.8/site-packages/scipy/optimize/zeros.py:341: RuntimeWarning: Tolerance of 0.33728493731945086 reached.\n",
      "  warnings.warn(msg, RuntimeWarning)\n",
      "/home/ryazmax/dls/venv/lib/python3.8/site-packages/scipy/optimize/zeros.py:341: RuntimeWarning: Tolerance of 0.6052859752351583 reached.\n",
      "  warnings.warn(msg, RuntimeWarning)\n",
      "/home/ryazmax/dls/venv/lib/python3.8/site-packages/scipy/optimize/zeros.py:341: RuntimeWarning: Tolerance of 1.9322310137171552 reached.\n",
      "  warnings.warn(msg, RuntimeWarning)\n",
      "/home/ryazmax/dls/venv/lib/python3.8/site-packages/scipy/optimize/zeros.py:341: RuntimeWarning: Tolerance of 0.5052642110317285 reached.\n",
      "  warnings.warn(msg, RuntimeWarning)\n",
      "/home/ryazmax/dls/venv/lib/python3.8/site-packages/scipy/optimize/zeros.py:341: RuntimeWarning: Tolerance of 1.7911429962645697 reached.\n",
      "  warnings.warn(msg, RuntimeWarning)\n",
      "/home/ryazmax/dls/venv/lib/python3.8/site-packages/scipy/optimize/zeros.py:341: RuntimeWarning: Tolerance of 1.6209150181731493 reached.\n",
      "  warnings.warn(msg, RuntimeWarning)\n",
      "/home/ryazmax/dls/venv/lib/python3.8/site-packages/scipy/optimize/zeros.py:341: RuntimeWarning: Tolerance of 0.5354969075127536 reached.\n",
      "  warnings.warn(msg, RuntimeWarning)\n",
      "/home/ryazmax/dls/venv/lib/python3.8/site-packages/scipy/optimize/zeros.py:341: RuntimeWarning: Tolerance of 0.42794542067575625 reached.\n",
      "  warnings.warn(msg, RuntimeWarning)\n",
      "/home/ryazmax/dls/venv/lib/python3.8/site-packages/scipy/optimize/zeros.py:341: RuntimeWarning: Tolerance of 0.058159792371784036 reached.\n",
      "  warnings.warn(msg, RuntimeWarning)\n",
      "/home/ryazmax/dls/venv/lib/python3.8/site-packages/scipy/optimize/zeros.py:341: RuntimeWarning: Tolerance of 0.4844774568690018 reached.\n",
      "  warnings.warn(msg, RuntimeWarning)\n",
      "/home/ryazmax/dls/venv/lib/python3.8/site-packages/scipy/optimize/zeros.py:341: RuntimeWarning: Tolerance of 1.7936599656289895 reached.\n",
      "  warnings.warn(msg, RuntimeWarning)\n",
      "/home/ryazmax/dls/venv/lib/python3.8/site-packages/scipy/optimize/zeros.py:341: RuntimeWarning: Tolerance of 0.04280693420971193 reached.\n",
      "  warnings.warn(msg, RuntimeWarning)\n",
      "/home/ryazmax/dls/venv/lib/python3.8/site-packages/scipy/optimize/zeros.py:341: RuntimeWarning: Tolerance of 0.45741657371843125 reached.\n",
      "  warnings.warn(msg, RuntimeWarning)\n",
      "/home/ryazmax/dls/venv/lib/python3.8/site-packages/scipy/optimize/zeros.py:341: RuntimeWarning: Tolerance of 0.7938282819257143 reached.\n",
      "  warnings.warn(msg, RuntimeWarning)\n",
      "/home/ryazmax/dls/venv/lib/python3.8/site-packages/scipy/optimize/zeros.py:341: RuntimeWarning: Tolerance of 2.000177852796646 reached.\n",
      "  warnings.warn(msg, RuntimeWarning)\n",
      "/home/ryazmax/dls/venv/lib/python3.8/site-packages/scipy/optimize/zeros.py:341: RuntimeWarning: Tolerance of 0.2446889614326504 reached.\n",
      "  warnings.warn(msg, RuntimeWarning)\n",
      "/home/ryazmax/dls/venv/lib/python3.8/site-packages/scipy/optimize/zeros.py:341: RuntimeWarning: Tolerance of 3.626961481891695 reached.\n",
      "  warnings.warn(msg, RuntimeWarning)\n",
      "/home/ryazmax/dls/venv/lib/python3.8/site-packages/scipy/optimize/zeros.py:341: RuntimeWarning: Tolerance of 0.5492923216908614 reached.\n",
      "  warnings.warn(msg, RuntimeWarning)\n",
      "/home/ryazmax/dls/venv/lib/python3.8/site-packages/scipy/optimize/zeros.py:341: RuntimeWarning: Tolerance of 1.0034289632272673 reached.\n",
      "  warnings.warn(msg, RuntimeWarning)\n",
      "/home/ryazmax/dls/venv/lib/python3.8/site-packages/scipy/optimize/zeros.py:341: RuntimeWarning: Tolerance of 1.3041082374215949 reached.\n",
      "  warnings.warn(msg, RuntimeWarning)\n",
      "/home/ryazmax/dls/venv/lib/python3.8/site-packages/scipy/optimize/zeros.py:341: RuntimeWarning: Tolerance of 0.8134956313243018 reached.\n",
      "  warnings.warn(msg, RuntimeWarning)\n",
      "/home/ryazmax/dls/venv/lib/python3.8/site-packages/scipy/optimize/zeros.py:341: RuntimeWarning: Tolerance of 0.44499994921942987 reached.\n",
      "  warnings.warn(msg, RuntimeWarning)\n",
      "/home/ryazmax/dls/venv/lib/python3.8/site-packages/scipy/optimize/zeros.py:341: RuntimeWarning: Tolerance of 0.09497674955635516 reached.\n",
      "  warnings.warn(msg, RuntimeWarning)\n",
      "/home/ryazmax/dls/venv/lib/python3.8/site-packages/scipy/optimize/zeros.py:341: RuntimeWarning: Tolerance of 0.8039468929373124 reached.\n",
      "  warnings.warn(msg, RuntimeWarning)\n",
      "/home/ryazmax/dls/venv/lib/python3.8/site-packages/scipy/optimize/zeros.py:341: RuntimeWarning: Tolerance of 1.5129992948593514 reached.\n",
      "  warnings.warn(msg, RuntimeWarning)\n",
      "/home/ryazmax/dls/venv/lib/python3.8/site-packages/scipy/optimize/zeros.py:341: RuntimeWarning: Tolerance of 1.0489168455077347 reached.\n",
      "  warnings.warn(msg, RuntimeWarning)\n",
      "/home/ryazmax/dls/venv/lib/python3.8/site-packages/scipy/optimize/zeros.py:341: RuntimeWarning: Tolerance of 0.9333855304246996 reached.\n",
      "  warnings.warn(msg, RuntimeWarning)\n",
      "/home/ryazmax/dls/venv/lib/python3.8/site-packages/scipy/optimize/zeros.py:341: RuntimeWarning: Tolerance of 0.019707613267764046 reached.\n",
      "  warnings.warn(msg, RuntimeWarning)\n",
      "/home/ryazmax/dls/venv/lib/python3.8/site-packages/scipy/optimize/zeros.py:341: RuntimeWarning: Tolerance of 0.9071702205677381 reached.\n",
      "  warnings.warn(msg, RuntimeWarning)\n",
      "/home/ryazmax/dls/venv/lib/python3.8/site-packages/scipy/optimize/zeros.py:341: RuntimeWarning: Tolerance of 1.377384199383429 reached.\n",
      "  warnings.warn(msg, RuntimeWarning)\n",
      "/home/ryazmax/dls/venv/lib/python3.8/site-packages/scipy/optimize/zeros.py:341: RuntimeWarning: Tolerance of 1.5120045281349366 reached.\n",
      "  warnings.warn(msg, RuntimeWarning)\n",
      "/home/ryazmax/dls/venv/lib/python3.8/site-packages/scipy/optimize/zeros.py:341: RuntimeWarning: Tolerance of 0.14639730620027303 reached.\n",
      "  warnings.warn(msg, RuntimeWarning)\n",
      "/home/ryazmax/dls/venv/lib/python3.8/site-packages/scipy/optimize/zeros.py:341: RuntimeWarning: Tolerance of 0.19823916923740548 reached.\n",
      "  warnings.warn(msg, RuntimeWarning)\n",
      "/home/ryazmax/dls/venv/lib/python3.8/site-packages/scipy/optimize/zeros.py:341: RuntimeWarning: Tolerance of 0.31538550960746825 reached.\n",
      "  warnings.warn(msg, RuntimeWarning)\n",
      "/home/ryazmax/dls/venv/lib/python3.8/site-packages/scipy/optimize/zeros.py:341: RuntimeWarning: Tolerance of 0.8582032295920459 reached.\n",
      "  warnings.warn(msg, RuntimeWarning)\n",
      "/home/ryazmax/dls/venv/lib/python3.8/site-packages/scipy/optimize/zeros.py:341: RuntimeWarning: Tolerance of 0.717494327955281 reached.\n",
      "  warnings.warn(msg, RuntimeWarning)\n",
      "/home/ryazmax/dls/venv/lib/python3.8/site-packages/scipy/optimize/zeros.py:341: RuntimeWarning: Tolerance of 1.50083771817233 reached.\n",
      "  warnings.warn(msg, RuntimeWarning)\n",
      "/home/ryazmax/dls/venv/lib/python3.8/site-packages/scipy/optimize/zeros.py:341: RuntimeWarning: Tolerance of 0.832314889398952 reached.\n",
      "  warnings.warn(msg, RuntimeWarning)\n",
      "/home/ryazmax/dls/venv/lib/python3.8/site-packages/scipy/optimize/zeros.py:341: RuntimeWarning: Tolerance of 1.048861243027164 reached.\n",
      "  warnings.warn(msg, RuntimeWarning)\n",
      "/home/ryazmax/dls/venv/lib/python3.8/site-packages/scipy/optimize/zeros.py:341: RuntimeWarning: Tolerance of 1.4552604481152078 reached.\n",
      "  warnings.warn(msg, RuntimeWarning)\n",
      "/home/ryazmax/dls/venv/lib/python3.8/site-packages/scipy/optimize/zeros.py:341: RuntimeWarning: Tolerance of 1.890378231535504 reached.\n",
      "  warnings.warn(msg, RuntimeWarning)\n",
      "/home/ryazmax/dls/venv/lib/python3.8/site-packages/scipy/optimize/zeros.py:341: RuntimeWarning: Tolerance of 0.3946219145911729 reached.\n",
      "  warnings.warn(msg, RuntimeWarning)\n",
      "/home/ryazmax/dls/venv/lib/python3.8/site-packages/scipy/optimize/zeros.py:341: RuntimeWarning: Tolerance of 0.8421850205864021 reached.\n",
      "  warnings.warn(msg, RuntimeWarning)\n"
     ]
    },
    {
     "data": {
      "text/plain": [
       "<AxesSubplot:xlabel='NO', ylabel='Density'>"
      ]
     },
     "execution_count": 19,
     "metadata": {},
     "output_type": "execute_result"
    },
    {
     "data": {
      "image/png": "[encoded data removed]",
      "text/plain": [
       "<Figure size 432x288 with 1 Axes>"
      ]
     },
     "metadata": {
      "needs_background": "light"
     },
     "output_type": "display_data"
    }
   ],
   "source": [
    "uniform_x = np.random.random(1000)\n",
    "field = 'NO'\n",
    "sampled = np.array([inv_cdf(p, lambda x: stats.gamma.cdf(x, *params[field]), 10, 20) for p in uniform_x])\n",
    "sampled\n",
    "#sampled = stats.gamma.ppf(uniform_x, *params[field])\n",
    "sns.histplot(sampled, stat='density', color='yellow')\n",
    "sns.histplot(df_cont[field], stat='density')"
   ]
  },
  {
   "cell_type": "code",
   "execution_count": 321,
   "metadata": {},
   "outputs": [
    {
     "data": {
      "text/plain": [
       "(array([0.00186302, 0.01489812, 0.02035239, 0.01605698, 0.01254219,\n",
       "        0.00781623, 0.00435375, 0.0022815 , 0.00113069, 0.00054321,\n",
       "        0.        ]),\n",
       " array([0.00186302, 0.01489812, 0.02035239, 0.01605698, 0.01254219,\n",
       "        0.00781623, 0.00435375, 0.0022815 , 0.00113069, 0.00054321]))"
      ]
     },
     "execution_count": 321,
     "metadata": {},
     "output_type": "execute_result"
    }
   ],
   "source": [
    "from scipy.interpolate import interp1d\n",
    "\n",
    "y, x = np.histogram(df_cont['NO2'], density=True)\n",
    "f = interp1d(x[:-1], y, fill_value=0, bounds_error=False)\n",
    "f(x), y\n"
   ]
  },
  {
   "cell_type": "code",
   "execution_count": 325,
   "metadata": {},
   "outputs": [
    {
     "data": {
      "text/plain": [
       "<matplotlib.legend.Legend at 0x7f94fbdae8b0>"
      ]
     },
     "execution_count": 325,
     "metadata": {},
     "output_type": "execute_result"
    },
    {
     "data": {
      "image/png": "[encoded data removed]",
      "text/plain": [
       "<Figure size 432x288 with 1 Axes>"
      ]
     },
     "metadata": {
      "needs_background": "light"
     },
     "output_type": "display_data"
    }
   ],
   "source": [
    "x = np.linspace(0, 150)\n",
    "y = f(x)\n",
    "m, mu, sigma = 4, 22, 60\n",
    "y2 = m * stats.norm.pdf(x, mu, sigma)\n",
    "plt.plot(x, y, label='f(x)')\n",
    "plt.plot(x, y2, label=f'{m} * N({mu}, {sigma})')\n",
    "plt.legend()"
   ]
  },
  {
   "cell_type": "code",
   "execution_count": 326,
   "metadata": {},
   "outputs": [],
   "source": [
    "def generate_reject_sampling(f, m, mu, sigma, N=10000):\n",
    "    result = []\n",
    "    for _ in range(N):\n",
    "        candidate = np.random.normal(mu, sigma)\n",
    "        prob_accept = f(candidate) / (m * stats.norm.pdf(candidate, mu, sigma))\n",
    "\n",
    "        if np.random.random() < prob_accept:\n",
    "            result.append(candidate)\n",
    "    return np.array(result)"
   ]
  },
  {
   "cell_type": "code",
   "execution_count": 327,
   "metadata": {},
   "outputs": [
    {
     "data": {
      "text/plain": [
       "(2520,)"
      ]
     },
     "execution_count": 327,
     "metadata": {},
     "output_type": "execute_result"
    }
   ],
   "source": [
    "generated = generate_reject_sampling(f, m, mu, sigma)\n",
    "generated.shape"
   ]
  },
  {
   "cell_type": "code",
   "execution_count": 329,
   "metadata": {},
   "outputs": [
    {
     "data": {
      "text/plain": [
       "<AxesSubplot:xlabel='NO2', ylabel='Density'>"
      ]
     },
     "execution_count": 329,
     "metadata": {},
     "output_type": "execute_result"
    },
    {
     "data": {
      "image/png": "[encoded data removed]",
      "text/plain": [
       "<Figure size 432x288 with 1 Axes>"
      ]
     },
     "metadata": {
      "needs_background": "light"
     },
     "output_type": "display_data"
    }
   ],
   "source": [
    "sns.histplot(generated, stat='density', color='yellow')\n",
    "sns.histplot(df_cont['NO2'], stat='density')"
   ]
  },
  {
   "cell_type": "markdown",
   "metadata": {},
   "source": [
    "# Correlation estimation\n",
    "## Overall corelation"
   ]
  },
  {
   "cell_type": "code",
   "execution_count": 28,
   "metadata": {},
   "outputs": [],
   "source": [
    "import seaborn as sns\n",
    "import matplotlib.pyplot as plt"
   ]
  },
  {
   "cell_type": "code",
   "execution_count": 69,
   "metadata": {},
   "outputs": [
    {
     "data": {
      "text/html": [
       "<div>\n",
       "<style scoped>\n",
       "    .dataframe tbody tr th:only-of-type {\n",
       "        vertical-align: middle;\n",
       "    }\n",
       "\n",
       "    .dataframe tbody tr th {\n",
       "        vertical-align: top;\n",
       "    }\n",
       "\n",
       "    .dataframe thead th {\n",
       "        text-align: right;\n",
       "    }\n",
       "</style>\n",
       "<table border=\"1\" class=\"dataframe\">\n",
       "  <thead>\n",
       "    <tr style=\"text-align: right;\">\n",
       "      <th></th>\n",
       "      <th>NO</th>\n",
       "      <th>CO</th>\n",
       "      <th>NO2</th>\n",
       "      <th>O3</th>\n",
       "      <th>NOx</th>\n",
       "      <th>Benzene</th>\n",
       "      <th>Toluene</th>\n",
       "      <th>AQI</th>\n",
       "      <th>PM2.5</th>\n",
       "      <th>NH3</th>\n",
       "    </tr>\n",
       "  </thead>\n",
       "  <tbody>\n",
       "    <tr>\n",
       "      <th>0</th>\n",
       "      <td>8.665</td>\n",
       "      <td>0.715</td>\n",
       "      <td>50.120</td>\n",
       "      <td>43.880</td>\n",
       "      <td>56.605</td>\n",
       "      <td>2.245</td>\n",
       "      <td>8.720</td>\n",
       "      <td>269.0</td>\n",
       "      <td>64.315</td>\n",
       "      <td>36.710</td>\n",
       "    </tr>\n",
       "    <tr>\n",
       "      <th>1</th>\n",
       "      <td>11.000</td>\n",
       "      <td>0.875</td>\n",
       "      <td>50.735</td>\n",
       "      <td>44.930</td>\n",
       "      <td>62.195</td>\n",
       "      <td>2.705</td>\n",
       "      <td>11.130</td>\n",
       "      <td>248.5</td>\n",
       "      <td>67.415</td>\n",
       "      <td>34.555</td>\n",
       "    </tr>\n",
       "    <tr>\n",
       "      <th>2</th>\n",
       "      <td>8.565</td>\n",
       "      <td>0.955</td>\n",
       "      <td>45.135</td>\n",
       "      <td>64.470</td>\n",
       "      <td>53.585</td>\n",
       "      <td>3.290</td>\n",
       "      <td>13.935</td>\n",
       "      <td>251.0</td>\n",
       "      <td>59.835</td>\n",
       "      <td>36.360</td>\n",
       "    </tr>\n",
       "    <tr>\n",
       "      <th>3</th>\n",
       "      <td>7.680</td>\n",
       "      <td>0.795</td>\n",
       "      <td>35.390</td>\n",
       "      <td>49.535</td>\n",
       "      <td>42.720</td>\n",
       "      <td>4.075</td>\n",
       "      <td>18.015</td>\n",
       "      <td>253.5</td>\n",
       "      <td>74.330</td>\n",
       "      <td>31.680</td>\n",
       "    </tr>\n",
       "    <tr>\n",
       "      <th>4</th>\n",
       "      <td>8.410</td>\n",
       "      <td>1.215</td>\n",
       "      <td>35.815</td>\n",
       "      <td>46.155</td>\n",
       "      <td>43.375</td>\n",
       "      <td>4.895</td>\n",
       "      <td>15.110</td>\n",
       "      <td>256.5</td>\n",
       "      <td>82.000</td>\n",
       "      <td>33.530</td>\n",
       "    </tr>\n",
       "  </tbody>\n",
       "</table>\n",
       "</div>"
      ],
      "text/plain": [
       "       NO     CO     NO2      O3     NOx  Benzene  Toluene    AQI   PM2.5  \\\n",
       "0   8.665  0.715  50.120  43.880  56.605    2.245    8.720  269.0  64.315   \n",
       "1  11.000  0.875  50.735  44.930  62.195    2.705   11.130  248.5  67.415   \n",
       "2   8.565  0.955  45.135  64.470  53.585    3.290   13.935  251.0  59.835   \n",
       "3   7.680  0.795  35.390  49.535  42.720    4.075   18.015  253.5  74.330   \n",
       "4   8.410  1.215  35.815  46.155  43.375    4.895   15.110  256.5  82.000   \n",
       "\n",
       "      NH3  \n",
       "0  36.710  \n",
       "1  34.555  \n",
       "2  36.360  \n",
       "3  31.680  \n",
       "4  33.530  "
      ]
     },
     "execution_count": 69,
     "metadata": {},
     "output_type": "execute_result"
    }
   ],
   "source": [
    "df_cont = df[continues_fields]\n",
    "df_cont.head()"
   ]
  },
  {
   "cell_type": "code",
   "execution_count": 70,
   "metadata": {},
   "outputs": [
    {
     "data": {
      "text/plain": [
       "<AxesSubplot:>"
      ]
     },
     "execution_count": 70,
     "metadata": {},
     "output_type": "execute_result"
    },
    {
     "data": {
      "image/png": "[encoded data removed]",
      "text/plain": [
       "<Figure size 720x576 with 2 Axes>"
      ]
     },
     "metadata": {
      "needs_background": "light"
     },
     "output_type": "display_data"
    }
   ],
   "source": [
    "plt.figure(figsize=(10, 8))\n",
    "sns.heatmap(df.corr(), annot=True)"
   ]
  },
  {
   "cell_type": "code",
   "execution_count": 47,
   "metadata": {},
   "outputs": [
    {
     "data": {
      "text/plain": [
       "(0.725913632129718, 0.0)"
      ]
     },
     "execution_count": 47,
     "metadata": {},
     "output_type": "execute_result"
    }
   ],
   "source": [
    "stats.pearsonr(df_cont['PM2.5'], df_cont['AQI'])"
   ]
  },
  {
   "cell_type": "markdown",
   "metadata": {},
   "source": [
    "## Target-predictors correlation"
   ]
  },
  {
   "cell_type": "code",
   "execution_count": 104,
   "metadata": {},
   "outputs": [
    {
     "data": {
      "text/plain": [
       "<AxesSubplot:>"
      ]
     },
     "execution_count": 104,
     "metadata": {},
     "output_type": "execute_result"
    },
    {
     "data": {
      "image/png": "[encoded data removed]",
      "text/plain": [
       "<Figure size 576x360 with 2 Axes>"
      ]
     },
     "metadata": {
      "needs_background": "light"
     },
     "output_type": "display_data"
    }
   ],
   "source": [
    "plt.figure(figsize=(8, 5))\n",
    "corr = pd.DataFrame(df_cont[predictors].corrwith(df_cont['NOx']).sort_values(ascending=False), columns=['NOx'])\n",
    "sns.heatmap(\n",
    "   corr,\n",
    "   annot=True\n",
    ")\n"
   ]
  },
  {
   "cell_type": "code",
   "execution_count": 105,
   "metadata": {},
   "outputs": [
    {
     "data": {
      "text/plain": [
       "<AxesSubplot:>"
      ]
     },
     "execution_count": 105,
     "metadata": {},
     "output_type": "execute_result"
    },
    {
     "data": {
      "image/png": "[encoded data removed]",
      "text/plain": [
       "<Figure size 576x360 with 2 Axes>"
      ]
     },
     "metadata": {
      "needs_background": "light"
     },
     "output_type": "display_data"
    }
   ],
   "source": [
    "plt.figure(figsize=(8, 5))\n",
    "corr = pd.DataFrame(df_cont[predictors].corrwith(df_cont['NO']).sort_values(ascending=False), columns=['NO'])\n",
    "sns.heatmap(\n",
    "   corr,\n",
    "   annot=True\n",
    ")"
   ]
  },
  {
   "cell_type": "code",
   "execution_count": 106,
   "metadata": {},
   "outputs": [
    {
     "data": {
      "text/plain": [
       "<AxesSubplot:>"
      ]
     },
     "execution_count": 106,
     "metadata": {},
     "output_type": "execute_result"
    },
    {
     "data": {
      "image/png": "[encoded data removed]",
      "text/plain": [
       "<Figure size 576x360 with 2 Axes>"
      ]
     },
     "metadata": {
      "needs_background": "light"
     },
     "output_type": "display_data"
    }
   ],
   "source": [
    "plt.figure(figsize=(8, 5))\n",
    "corr = pd.DataFrame(df_cont[predictors].corrwith(df_cont['AQI']).sort_values(ascending=False), columns=['AQI'])\n",
    "sns.heatmap(\n",
    "   corr,\n",
    "   annot=True\n",
    ")\n"
   ]
  },
  {
   "cell_type": "markdown",
   "metadata": {},
   "source": [
    "# Building Bayesian network based on multivariate analysis"
   ]
  },
  {
   "cell_type": "code",
   "execution_count": 29,
   "metadata": {},
   "outputs": [],
   "source": [
    "import os, sys\n",
    "sys.path.insert(0, './BAMT/')"
   ]
  },
  {
   "cell_type": "code",
   "execution_count": 30,
   "metadata": {},
   "outputs": [],
   "source": [
    "from BAMT.preprocess.discretization import discretization, get_nodes_type, code_categories, get_nodes_sign\n",
    "from BAMT.bayesian.train_bn import structure_learning, parameter_learning\n",
    "from BAMT.visualization.visualization import draw_BN\n",
    "from BAMT.bayesian.sampling import generate_synthetics\n",
    "from BAMT.external.libpgm.hybayesiannetwork import HyBayesianNetwork\n",
    "from BAMT.bayesian.save_bn import save_structure, save_params, read_structure, read_params"
   ]
  },
  {
   "cell_type": "code",
   "execution_count": 99,
   "metadata": {},
   "outputs": [],
   "source": [
    "my_bn = {\n",
    "    'V': continues_fields,\n",
    "    'E': [\n",
    "        ['PM2.5', 'AQI'],\n",
    "        ['NH3', 'AQI'],\n",
    "        ['NO2', 'AQI'],\n",
    "        ['CO', 'NO'],\n",
    "        ['NO2', 'NO'],\n",
    "        ['Benzene', 'NO'],\n",
    "        ['NO2', 'NOx'],\n",
    "        ['CO', 'NOx'],\n",
    "        ['PM2.5', 'CO'],\n",
    "        ['PM2.5', 'NH3'],\n",
    "        ['NO2', 'CO'],\n",
    "        ['Benzene', 'CO'],\n",
    "        ['Toluene', 'Benzene']\n",
    "    ]\n",
    "}"
   ]
  },
  {
   "cell_type": "code",
   "execution_count": 173,
   "metadata": {},
   "outputs": [
    {
     "data": {
      "text/plain": [
       "1"
      ]
     },
     "execution_count": 173,
     "metadata": {},
     "output_type": "execute_result"
    }
   ],
   "source": [
    "draw_BN(my_bn, nodes_type, '../results/LW3/my_bayess')\n",
    "1"
   ]
  },
  {
   "cell_type": "markdown",
   "metadata": {},
   "source": [
    "# Building Byaesian network based on structural learning"
   ]
  },
  {
   "cell_type": "code",
   "execution_count": 61,
   "metadata": {},
   "outputs": [
    {
     "data": {
      "text/html": [
       "<div>\n",
       "<style scoped>\n",
       "    .dataframe tbody tr th:only-of-type {\n",
       "        vertical-align: middle;\n",
       "    }\n",
       "\n",
       "    .dataframe tbody tr th {\n",
       "        vertical-align: top;\n",
       "    }\n",
       "\n",
       "    .dataframe thead th {\n",
       "        text-align: right;\n",
       "    }\n",
       "</style>\n",
       "<table border=\"1\" class=\"dataframe\">\n",
       "  <thead>\n",
       "    <tr style=\"text-align: right;\">\n",
       "      <th></th>\n",
       "      <th>NO</th>\n",
       "      <th>CO</th>\n",
       "      <th>NO2</th>\n",
       "      <th>O3</th>\n",
       "      <th>NOx</th>\n",
       "      <th>Benzene</th>\n",
       "      <th>Toluene</th>\n",
       "      <th>AQI</th>\n",
       "      <th>PM2.5</th>\n",
       "      <th>NH3</th>\n",
       "    </tr>\n",
       "  </thead>\n",
       "  <tbody>\n",
       "    <tr>\n",
       "      <th>5478</th>\n",
       "      <td>20.386000</td>\n",
       "      <td>1.024000</td>\n",
       "      <td>67.986000</td>\n",
       "      <td>125.606000</td>\n",
       "      <td>87.460000</td>\n",
       "      <td>9.654000</td>\n",
       "      <td>20.438000</td>\n",
       "      <td>319.600000</td>\n",
       "      <td>179.332000</td>\n",
       "      <td>45.072000</td>\n",
       "    </tr>\n",
       "    <tr>\n",
       "      <th>6769</th>\n",
       "      <td>1.870000</td>\n",
       "      <td>0.495000</td>\n",
       "      <td>35.795000</td>\n",
       "      <td>130.290000</td>\n",
       "      <td>34.430000</td>\n",
       "      <td>0.920000</td>\n",
       "      <td>3.130000</td>\n",
       "      <td>342.500000</td>\n",
       "      <td>128.750000</td>\n",
       "      <td>18.215000</td>\n",
       "    </tr>\n",
       "    <tr>\n",
       "      <th>1487</th>\n",
       "      <td>2.580000</td>\n",
       "      <td>1.173333</td>\n",
       "      <td>40.083333</td>\n",
       "      <td>59.563333</td>\n",
       "      <td>111.526667</td>\n",
       "      <td>1.503333</td>\n",
       "      <td>4.443333</td>\n",
       "      <td>128.666667</td>\n",
       "      <td>53.000000</td>\n",
       "      <td>39.050000</td>\n",
       "    </tr>\n",
       "    <tr>\n",
       "      <th>532</th>\n",
       "      <td>10.997500</td>\n",
       "      <td>0.862500</td>\n",
       "      <td>36.582500</td>\n",
       "      <td>151.725000</td>\n",
       "      <td>49.155000</td>\n",
       "      <td>1.190000</td>\n",
       "      <td>2.002500</td>\n",
       "      <td>373.250000</td>\n",
       "      <td>184.610000</td>\n",
       "      <td>33.520000</td>\n",
       "    </tr>\n",
       "    <tr>\n",
       "      <th>40173</th>\n",
       "      <td>13.273333</td>\n",
       "      <td>0.825833</td>\n",
       "      <td>31.963333</td>\n",
       "      <td>17.527778</td>\n",
       "      <td>30.189444</td>\n",
       "      <td>2.384167</td>\n",
       "      <td>16.829444</td>\n",
       "      <td>112.944444</td>\n",
       "      <td>56.931944</td>\n",
       "      <td>22.031111</td>\n",
       "    </tr>\n",
       "  </tbody>\n",
       "</table>\n",
       "</div>"
      ],
      "text/plain": [
       "              NO        CO        NO2          O3         NOx   Benzene  \\\n",
       "5478   20.386000  1.024000  67.986000  125.606000   87.460000  9.654000   \n",
       "6769    1.870000  0.495000  35.795000  130.290000   34.430000  0.920000   \n",
       "1487    2.580000  1.173333  40.083333   59.563333  111.526667  1.503333   \n",
       "532    10.997500  0.862500  36.582500  151.725000   49.155000  1.190000   \n",
       "40173  13.273333  0.825833  31.963333   17.527778   30.189444  2.384167   \n",
       "\n",
       "         Toluene         AQI       PM2.5        NH3  \n",
       "5478   20.438000  319.600000  179.332000  45.072000  \n",
       "6769    3.130000  342.500000  128.750000  18.215000  \n",
       "1487    4.443333  128.666667   53.000000  39.050000  \n",
       "532     2.002500  373.250000  184.610000  33.520000  \n",
       "40173  16.829444  112.944444   56.931944  22.031111  "
      ]
     },
     "execution_count": 61,
     "metadata": {},
     "output_type": "execute_result"
    }
   ],
   "source": [
    "df_train, df_test = sk.model_selection.train_test_split(df_cont, train_size=0.7, random_state=42)\n",
    "df_test.head()"
   ]
  },
  {
   "cell_type": "code",
   "execution_count": 62,
   "metadata": {},
   "outputs": [
    {
     "data": {
      "text/plain": [
       "{'NO': 'cont',\n",
       " 'CO': 'cont',\n",
       " 'NO2': 'cont',\n",
       " 'O3': 'cont',\n",
       " 'NOx': 'cont',\n",
       " 'Benzene': 'cont',\n",
       " 'Toluene': 'cont',\n",
       " 'AQI': 'cont',\n",
       " 'PM2.5': 'cont',\n",
       " 'NH3': 'cont'}"
      ]
     },
     "execution_count": 62,
     "metadata": {},
     "output_type": "execute_result"
    }
   ],
   "source": [
    "nodes_type = get_nodes_type(df_cont)\n",
    "nodes_type"
   ]
  },
  {
   "cell_type": "code",
   "execution_count": 63,
   "metadata": {},
   "outputs": [],
   "source": [
    "nodes_sign = get_nodes_sign(df_cont)"
   ]
  },
  {
   "cell_type": "code",
   "execution_count": 64,
   "metadata": {},
   "outputs": [],
   "source": [
    "discrete_data, coder = discretization(df_train, 'equal_frequency', columns=continues_fields, bins=10)"
   ]
  },
  {
   "cell_type": "code",
   "execution_count": 67,
   "metadata": {},
   "outputs": [
    {
     "data": {
      "text/html": [
       "<div>\n",
       "<style scoped>\n",
       "    .dataframe tbody tr th:only-of-type {\n",
       "        vertical-align: middle;\n",
       "    }\n",
       "\n",
       "    .dataframe tbody tr th {\n",
       "        vertical-align: top;\n",
       "    }\n",
       "\n",
       "    .dataframe thead th {\n",
       "        text-align: right;\n",
       "    }\n",
       "</style>\n",
       "<table border=\"1\" class=\"dataframe\">\n",
       "  <thead>\n",
       "    <tr style=\"text-align: right;\">\n",
       "      <th></th>\n",
       "      <th>NO</th>\n",
       "      <th>CO</th>\n",
       "      <th>NO2</th>\n",
       "      <th>O3</th>\n",
       "      <th>NOx</th>\n",
       "      <th>Benzene</th>\n",
       "      <th>Toluene</th>\n",
       "      <th>AQI</th>\n",
       "      <th>PM2.5</th>\n",
       "      <th>NH3</th>\n",
       "    </tr>\n",
       "  </thead>\n",
       "  <tbody>\n",
       "    <tr>\n",
       "      <th>0</th>\n",
       "      <td>8</td>\n",
       "      <td>7</td>\n",
       "      <td>6</td>\n",
       "      <td>1</td>\n",
       "      <td>7</td>\n",
       "      <td>7</td>\n",
       "      <td>8</td>\n",
       "      <td>4</td>\n",
       "      <td>7</td>\n",
       "      <td>6</td>\n",
       "    </tr>\n",
       "    <tr>\n",
       "      <th>1</th>\n",
       "      <td>0</td>\n",
       "      <td>0</td>\n",
       "      <td>1</td>\n",
       "      <td>3</td>\n",
       "      <td>0</td>\n",
       "      <td>0</td>\n",
       "      <td>0</td>\n",
       "      <td>0</td>\n",
       "      <td>0</td>\n",
       "      <td>0</td>\n",
       "    </tr>\n",
       "    <tr>\n",
       "      <th>2</th>\n",
       "      <td>2</td>\n",
       "      <td>7</td>\n",
       "      <td>7</td>\n",
       "      <td>9</td>\n",
       "      <td>6</td>\n",
       "      <td>7</td>\n",
       "      <td>6</td>\n",
       "      <td>9</td>\n",
       "      <td>8</td>\n",
       "      <td>8</td>\n",
       "    </tr>\n",
       "    <tr>\n",
       "      <th>3</th>\n",
       "      <td>3</td>\n",
       "      <td>2</td>\n",
       "      <td>2</td>\n",
       "      <td>7</td>\n",
       "      <td>2</td>\n",
       "      <td>3</td>\n",
       "      <td>7</td>\n",
       "      <td>3</td>\n",
       "      <td>2</td>\n",
       "      <td>3</td>\n",
       "    </tr>\n",
       "    <tr>\n",
       "      <th>4</th>\n",
       "      <td>0</td>\n",
       "      <td>0</td>\n",
       "      <td>2</td>\n",
       "      <td>4</td>\n",
       "      <td>0</td>\n",
       "      <td>0</td>\n",
       "      <td>0</td>\n",
       "      <td>0</td>\n",
       "      <td>0</td>\n",
       "      <td>0</td>\n",
       "    </tr>\n",
       "  </tbody>\n",
       "</table>\n",
       "</div>"
      ],
      "text/plain": [
       "   NO  CO  NO2  O3  NOx  Benzene  Toluene  AQI  PM2.5  NH3\n",
       "0   8   7    6   1    7        7        8    4      7    6\n",
       "1   0   0    1   3    0        0        0    0      0    0\n",
       "2   2   7    7   9    6        7        6    9      8    8\n",
       "3   3   2    2   7    2        3        7    3      2    3\n",
       "4   0   0    2   4    0        0        0    0      0    0"
      ]
     },
     "execution_count": 67,
     "metadata": {},
     "output_type": "execute_result"
    }
   ],
   "source": [
    "discrete_data.head()"
   ]
  },
  {
   "cell_type": "code",
   "execution_count": 66,
   "metadata": {},
   "outputs": [
    {
     "data": {
      "text/plain": [
       "<AxesSubplot:xlabel='NOx', ylabel='Density'>"
      ]
     },
     "execution_count": 66,
     "metadata": {},
     "output_type": "execute_result"
    },
    {
     "data": {
      "image/png": "[encoded data removed]",
      "text/plain": [
       "<Figure size 720x576 with 1 Axes>"
      ]
     },
     "metadata": {
      "needs_background": "light"
     },
     "output_type": "display_data"
    }
   ],
   "source": [
    "plt.figure(figsize=(10, 8))\n",
    "sns.histplot(x=df_train['NOx'], hue=discrete_data['NOx'], \n",
    "    stat='density', \n",
    "    palette=['green', 'red', 'yellow', 'blue', 'brown', 'black', 'pink', 'gold', 'silver', 'orange'],\n",
    "    multiple='stack')\n"
   ]
  },
  {
   "cell_type": "code",
   "execution_count": 92,
   "metadata": {},
   "outputs": [],
   "source": [
    "bn = structure_learning(discrete_data, 'HC', nodes_type, 'MI')"
   ]
  },
  {
   "cell_type": "code",
   "execution_count": 135,
   "metadata": {},
   "outputs": [
    {
     "data": {
      "text/plain": [
       "1"
      ]
     },
     "execution_count": 135,
     "metadata": {},
     "output_type": "execute_result"
    }
   ],
   "source": [
    "draw_BN(bn, nodes_type, '../results/LW3/HC_MI_bayess')\n",
    "1"
   ]
  },
  {
   "cell_type": "code",
   "execution_count": 100,
   "metadata": {},
   "outputs": [],
   "source": [
    "params_mi = parameter_learning(df_train, nodes_type, my_bn, 'simple')"
   ]
  },
  {
   "cell_type": "code",
   "execution_count": 101,
   "metadata": {},
   "outputs": [],
   "source": [
    "save_structure(my_bn, 'socio_net_structure')\n",
    "skel = read_structure('socio_net_structure')\n",
    "save_params(params_mi, 'socio_net_param')\n",
    "params = read_params('socio_net_param')\n",
    "my_bn_model = HyBayesianNetwork(skel, params)"
   ]
  },
  {
   "cell_type": "code",
   "execution_count": 71,
   "metadata": {},
   "outputs": [
    {
     "data": {
      "text/html": [
       "<div>\n",
       "<style scoped>\n",
       "    .dataframe tbody tr th:only-of-type {\n",
       "        vertical-align: middle;\n",
       "    }\n",
       "\n",
       "    .dataframe tbody tr th {\n",
       "        vertical-align: top;\n",
       "    }\n",
       "\n",
       "    .dataframe thead th {\n",
       "        text-align: right;\n",
       "    }\n",
       "</style>\n",
       "<table border=\"1\" class=\"dataframe\">\n",
       "  <thead>\n",
       "    <tr style=\"text-align: right;\">\n",
       "      <th></th>\n",
       "      <th>AQI</th>\n",
       "      <th>PM2.5</th>\n",
       "      <th>NO2</th>\n",
       "      <th>NOx</th>\n",
       "      <th>NO</th>\n",
       "      <th>O3</th>\n",
       "      <th>CO</th>\n",
       "      <th>Toluene</th>\n",
       "      <th>Benzene</th>\n",
       "      <th>NH3</th>\n",
       "    </tr>\n",
       "  </thead>\n",
       "  <tbody>\n",
       "    <tr>\n",
       "      <th>0</th>\n",
       "      <td>216.129560</td>\n",
       "      <td>137.457851</td>\n",
       "      <td>66.379692</td>\n",
       "      <td>88.218164</td>\n",
       "      <td>49.883588</td>\n",
       "      <td>20.383371</td>\n",
       "      <td>1.168488</td>\n",
       "      <td>18.237423</td>\n",
       "      <td>0.642256</td>\n",
       "      <td>35.888936</td>\n",
       "    </tr>\n",
       "    <tr>\n",
       "      <th>1</th>\n",
       "      <td>242.590690</td>\n",
       "      <td>41.929405</td>\n",
       "      <td>64.176637</td>\n",
       "      <td>126.707622</td>\n",
       "      <td>45.914665</td>\n",
       "      <td>50.963352</td>\n",
       "      <td>1.579324</td>\n",
       "      <td>2.040901</td>\n",
       "      <td>2.709323</td>\n",
       "      <td>26.158434</td>\n",
       "    </tr>\n",
       "    <tr>\n",
       "      <th>2</th>\n",
       "      <td>212.921606</td>\n",
       "      <td>126.035019</td>\n",
       "      <td>53.613254</td>\n",
       "      <td>49.217876</td>\n",
       "      <td>24.776863</td>\n",
       "      <td>67.660149</td>\n",
       "      <td>0.960576</td>\n",
       "      <td>19.998518</td>\n",
       "      <td>8.266641</td>\n",
       "      <td>41.942192</td>\n",
       "    </tr>\n",
       "    <tr>\n",
       "      <th>3</th>\n",
       "      <td>135.386042</td>\n",
       "      <td>57.728984</td>\n",
       "      <td>47.038667</td>\n",
       "      <td>3.152993</td>\n",
       "      <td>5.198197</td>\n",
       "      <td>73.672893</td>\n",
       "      <td>1.186364</td>\n",
       "      <td>21.845158</td>\n",
       "      <td>8.497092</td>\n",
       "      <td>30.198119</td>\n",
       "    </tr>\n",
       "    <tr>\n",
       "      <th>4</th>\n",
       "      <td>214.883617</td>\n",
       "      <td>146.235379</td>\n",
       "      <td>80.964790</td>\n",
       "      <td>71.965310</td>\n",
       "      <td>40.835040</td>\n",
       "      <td>58.572980</td>\n",
       "      <td>1.130274</td>\n",
       "      <td>12.484899</td>\n",
       "      <td>3.617156</td>\n",
       "      <td>26.077595</td>\n",
       "    </tr>\n",
       "  </tbody>\n",
       "</table>\n",
       "</div>"
      ],
      "text/plain": [
       "          AQI       PM2.5        NO2         NOx         NO         O3  \\\n",
       "0  216.129560  137.457851  66.379692   88.218164  49.883588  20.383371   \n",
       "1  242.590690   41.929405  64.176637  126.707622  45.914665  50.963352   \n",
       "2  212.921606  126.035019  53.613254   49.217876  24.776863  67.660149   \n",
       "3  135.386042   57.728984  47.038667    3.152993   5.198197  73.672893   \n",
       "4  214.883617  146.235379  80.964790   71.965310  40.835040  58.572980   \n",
       "\n",
       "         CO    Toluene   Benzene        NH3  \n",
       "0  1.168488  18.237423  0.642256  35.888936  \n",
       "1  1.579324   2.040901  2.709323  26.158434  \n",
       "2  0.960576  19.998518  8.266641  41.942192  \n",
       "3  1.186364  21.845158  8.497092  30.198119  \n",
       "4  1.130274  12.484899  3.617156  26.077595  "
      ]
     },
     "execution_count": 71,
     "metadata": {},
     "output_type": "execute_result"
    }
   ],
   "source": [
    "synth_df = generate_synthetics(my_bn_model, nodes_sign, 'simple', 1000)\n",
    "synth_df.head()"
   ]
  },
  {
   "cell_type": "markdown",
   "metadata": {},
   "source": [
    "# Quality analysis"
   ]
  },
  {
   "cell_type": "code",
   "execution_count": 72,
   "metadata": {},
   "outputs": [
    {
     "data": {
      "text/plain": [
       "<AxesSubplot:xlabel='AQI', ylabel='Density'>"
      ]
     },
     "execution_count": 72,
     "metadata": {},
     "output_type": "execute_result"
    },
    {
     "data": {
      "image/png": "[encoded data removed]",
      "text/plain": [
       "<Figure size 432x288 with 1 Axes>"
      ]
     },
     "metadata": {
      "needs_background": "light"
     },
     "output_type": "display_data"
    }
   ],
   "source": [
    "sns.histplot(synth_df['AQI'], stat='density', color='yellow')\n",
    "sns.histplot(df_cont['AQI'], stat='density')"
   ]
  },
  {
   "cell_type": "code",
   "execution_count": 179,
   "metadata": {},
   "outputs": [
    {
     "data": {
      "text/plain": [
       "<AxesSubplot:xlabel='NO', ylabel='Density'>"
      ]
     },
     "execution_count": 179,
     "metadata": {},
     "output_type": "execute_result"
    },
    {
     "data": {
      "image/png": "[encoded data removed]",
      "text/plain": [
       "<Figure size 432x288 with 1 Axes>"
      ]
     },
     "metadata": {
      "needs_background": "light"
     },
     "output_type": "display_data"
    }
   ],
   "source": [
    "sns.histplot(synth_df['NO'], stat='density', color='yellow')\n",
    "sns.histplot(df_cont['NO'], stat='density')"
   ]
  },
  {
   "cell_type": "code",
   "execution_count": 181,
   "metadata": {},
   "outputs": [
    {
     "data": {
      "text/plain": [
       "<AxesSubplot:xlabel='NOx', ylabel='Density'>"
      ]
     },
     "execution_count": 181,
     "metadata": {},
     "output_type": "execute_result"
    },
    {
     "data": {
      "image/png": "[encoded data removed]",
      "text/plain": [
       "<Figure size 432x288 with 1 Axes>"
      ]
     },
     "metadata": {
      "needs_background": "light"
     },
     "output_type": "display_data"
    }
   ],
   "source": [
    "sns.histplot(synth_df['NOx'], stat='density', color='yellow')\n",
    "sns.histplot(df_cont['NOx'], stat='density')"
   ]
  },
  {
   "cell_type": "code",
   "execution_count": 73,
   "metadata": {},
   "outputs": [],
   "source": [
    "from BAMT.bayesian.calculate_accuracy import calculate_acc"
   ]
  },
  {
   "cell_type": "code",
   "execution_count": 78,
   "metadata": {},
   "outputs": [
    {
     "data": {
      "text/html": [
       "<div>\n",
       "<style scoped>\n",
       "    .dataframe tbody tr th:only-of-type {\n",
       "        vertical-align: middle;\n",
       "    }\n",
       "\n",
       "    .dataframe tbody tr th {\n",
       "        vertical-align: top;\n",
       "    }\n",
       "\n",
       "    .dataframe thead th {\n",
       "        text-align: right;\n",
       "    }\n",
       "</style>\n",
       "<table border=\"1\" class=\"dataframe\">\n",
       "  <thead>\n",
       "    <tr style=\"text-align: right;\">\n",
       "      <th></th>\n",
       "      <th>NO</th>\n",
       "      <th>CO</th>\n",
       "      <th>NO2</th>\n",
       "      <th>O3</th>\n",
       "      <th>NOx</th>\n",
       "      <th>Benzene</th>\n",
       "      <th>Toluene</th>\n",
       "      <th>AQI</th>\n",
       "      <th>PM2.5</th>\n",
       "      <th>NH3</th>\n",
       "    </tr>\n",
       "  </thead>\n",
       "  <tbody>\n",
       "    <tr>\n",
       "      <th>11192</th>\n",
       "      <td>3.9075</td>\n",
       "      <td>1.5475</td>\n",
       "      <td>45.0775</td>\n",
       "      <td>69.0450</td>\n",
       "      <td>39.2575</td>\n",
       "      <td>6.2175</td>\n",
       "      <td>14.4500</td>\n",
       "      <td>379.50</td>\n",
       "      <td>146.1925</td>\n",
       "      <td>45.8775</td>\n",
       "    </tr>\n",
       "    <tr>\n",
       "      <th>1008</th>\n",
       "      <td>15.5950</td>\n",
       "      <td>1.0225</td>\n",
       "      <td>48.7375</td>\n",
       "      <td>50.5475</td>\n",
       "      <td>66.4375</td>\n",
       "      <td>1.6625</td>\n",
       "      <td>4.4125</td>\n",
       "      <td>335.25</td>\n",
       "      <td>66.9150</td>\n",
       "      <td>47.4875</td>\n",
       "    </tr>\n",
       "    <tr>\n",
       "      <th>15606</th>\n",
       "      <td>6.7350</td>\n",
       "      <td>0.3400</td>\n",
       "      <td>51.3650</td>\n",
       "      <td>27.8250</td>\n",
       "      <td>46.8550</td>\n",
       "      <td>3.9350</td>\n",
       "      <td>23.5650</td>\n",
       "      <td>236.50</td>\n",
       "      <td>105.6750</td>\n",
       "      <td>30.7200</td>\n",
       "    </tr>\n",
       "    <tr>\n",
       "      <th>17305</th>\n",
       "      <td>4.2000</td>\n",
       "      <td>0.0000</td>\n",
       "      <td>25.1500</td>\n",
       "      <td>29.3800</td>\n",
       "      <td>16.8000</td>\n",
       "      <td>0.1300</td>\n",
       "      <td>4.1500</td>\n",
       "      <td>39.00</td>\n",
       "      <td>22.0000</td>\n",
       "      <td>5.3200</td>\n",
       "    </tr>\n",
       "    <tr>\n",
       "      <th>6700</th>\n",
       "      <td>35.5320</td>\n",
       "      <td>0.8940</td>\n",
       "      <td>48.8100</td>\n",
       "      <td>87.9160</td>\n",
       "      <td>89.9460</td>\n",
       "      <td>4.2340</td>\n",
       "      <td>6.0400</td>\n",
       "      <td>239.00</td>\n",
       "      <td>77.8520</td>\n",
       "      <td>25.5680</td>\n",
       "    </tr>\n",
       "  </tbody>\n",
       "</table>\n",
       "</div>"
      ],
      "text/plain": [
       "            NO      CO      NO2       O3      NOx  Benzene  Toluene     AQI  \\\n",
       "11192   3.9075  1.5475  45.0775  69.0450  39.2575   6.2175  14.4500  379.50   \n",
       "1008   15.5950  1.0225  48.7375  50.5475  66.4375   1.6625   4.4125  335.25   \n",
       "15606   6.7350  0.3400  51.3650  27.8250  46.8550   3.9350  23.5650  236.50   \n",
       "17305   4.2000  0.0000  25.1500  29.3800  16.8000   0.1300   4.1500   39.00   \n",
       "6700   35.5320  0.8940  48.8100  87.9160  89.9460   4.2340   6.0400  239.00   \n",
       "\n",
       "          PM2.5      NH3  \n",
       "11192  146.1925  45.8775  \n",
       "1008    66.9150  47.4875  \n",
       "15606  105.6750  30.7200  \n",
       "17305   22.0000   5.3200  \n",
       "6700    77.8520  25.5680  "
      ]
     },
     "execution_count": 78,
     "metadata": {},
     "output_type": "execute_result"
    }
   ],
   "source": [
    "df_test_small = df_test.sample(600)\n",
    "df_test_small.head()"
   ]
  },
  {
   "cell_type": "code",
   "execution_count": 102,
   "metadata": {},
   "outputs": [
    {
     "name": "stdout",
     "output_type": "stream",
     "text": [
      "0\n",
      "1\n",
      "2\n",
      "3\n",
      "4\n",
      "5\n",
      "6\n",
      "7\n",
      "8\n",
      "9\n",
      "10\n",
      "11\n",
      "12\n",
      "13\n",
      "14\n",
      "15\n",
      "16\n",
      "17\n",
      "18\n",
      "19\n",
      "20\n",
      "21\n",
      "22\n",
      "23\n",
      "24\n",
      "25\n",
      "26\n",
      "27\n",
      "28\n",
      "29\n",
      "30\n",
      "31\n",
      "32\n",
      "33\n",
      "34\n",
      "35\n",
      "36\n",
      "37\n",
      "38\n",
      "39\n",
      "40\n",
      "41\n",
      "42\n",
      "43\n",
      "44\n",
      "45\n",
      "46\n",
      "47\n",
      "48\n",
      "49\n",
      "50\n",
      "51\n",
      "52\n",
      "53\n",
      "54\n",
      "55\n",
      "56\n",
      "57\n",
      "58\n",
      "59\n",
      "60\n",
      "61\n",
      "62\n",
      "63\n",
      "64\n",
      "65\n",
      "66\n",
      "67\n",
      "68\n",
      "69\n",
      "70\n",
      "71\n",
      "72\n",
      "73\n",
      "74\n",
      "75\n",
      "76\n",
      "77\n",
      "78\n",
      "79\n",
      "80\n",
      "81\n",
      "82\n",
      "83\n",
      "84\n",
      "85\n",
      "86\n",
      "87\n",
      "88\n",
      "89\n",
      "90\n",
      "91\n",
      "92\n",
      "93\n",
      "94\n",
      "95\n",
      "96\n",
      "97\n",
      "98\n",
      "99\n",
      "100\n",
      "101\n",
      "102\n",
      "103\n",
      "104\n",
      "105\n",
      "106\n",
      "107\n",
      "108\n",
      "109\n",
      "110\n",
      "111\n",
      "112\n",
      "113\n",
      "114\n",
      "115\n",
      "116\n",
      "117\n",
      "118\n",
      "119\n",
      "120\n",
      "121\n",
      "122\n",
      "123\n",
      "124\n",
      "125\n",
      "126\n",
      "127\n",
      "128\n",
      "129\n",
      "130\n",
      "131\n",
      "132\n",
      "133\n",
      "134\n",
      "135\n",
      "136\n",
      "137\n",
      "138\n",
      "139\n",
      "140\n",
      "141\n",
      "142\n",
      "143\n",
      "144\n",
      "145\n",
      "146\n",
      "147\n",
      "148\n",
      "149\n",
      "150\n",
      "151\n",
      "152\n",
      "153\n",
      "154\n",
      "155\n",
      "156\n",
      "157\n",
      "158\n",
      "159\n",
      "160\n",
      "161\n",
      "162\n",
      "163\n",
      "164\n",
      "165\n",
      "166\n",
      "167\n",
      "168\n",
      "169\n",
      "170\n",
      "171\n",
      "172\n",
      "173\n",
      "174\n",
      "175\n",
      "176\n",
      "177\n",
      "178\n",
      "179\n",
      "180\n",
      "181\n",
      "182\n",
      "183\n",
      "184\n",
      "185\n",
      "186\n",
      "187\n",
      "188\n",
      "189\n",
      "190\n",
      "191\n",
      "192\n",
      "193\n",
      "194\n",
      "195\n",
      "196\n",
      "197\n",
      "198\n",
      "199\n",
      "200\n",
      "201\n",
      "202\n",
      "203\n",
      "204\n",
      "205\n",
      "206\n",
      "207\n",
      "208\n",
      "209\n",
      "210\n",
      "211\n",
      "212\n",
      "213\n",
      "214\n",
      "215\n",
      "216\n",
      "217\n",
      "218\n",
      "219\n",
      "220\n",
      "221\n",
      "222\n",
      "223\n",
      "224\n",
      "225\n",
      "226\n",
      "227\n",
      "228\n",
      "229\n",
      "230\n",
      "231\n",
      "232\n",
      "233\n",
      "234\n",
      "235\n",
      "236\n",
      "237\n",
      "238\n",
      "239\n",
      "240\n",
      "241\n",
      "242\n",
      "243\n",
      "244\n",
      "245\n",
      "246\n",
      "247\n",
      "248\n",
      "249\n",
      "250\n",
      "251\n",
      "252\n",
      "253\n",
      "254\n",
      "255\n",
      "256\n",
      "257\n",
      "258\n",
      "259\n",
      "260\n",
      "261\n",
      "262\n",
      "263\n",
      "264\n",
      "265\n",
      "266\n",
      "267\n",
      "268\n",
      "269\n",
      "270\n",
      "271\n",
      "272\n",
      "273\n",
      "274\n",
      "275\n",
      "276\n",
      "277\n",
      "278\n",
      "279\n",
      "280\n",
      "281\n",
      "282\n",
      "283\n",
      "284\n",
      "285\n",
      "286\n",
      "287\n",
      "288\n",
      "289\n",
      "290\n",
      "291\n",
      "292\n",
      "293\n",
      "294\n",
      "295\n",
      "296\n",
      "297\n",
      "298\n",
      "299\n",
      "300\n",
      "301\n",
      "302\n",
      "303\n",
      "304\n",
      "305\n",
      "306\n",
      "307\n",
      "308\n",
      "309\n",
      "310\n",
      "311\n",
      "312\n",
      "313\n",
      "314\n",
      "315\n",
      "316\n",
      "317\n",
      "318\n",
      "319\n",
      "320\n",
      "321\n",
      "322\n",
      "323\n",
      "324\n",
      "325\n",
      "326\n",
      "327\n",
      "328\n",
      "329\n",
      "330\n",
      "331\n",
      "332\n",
      "333\n",
      "334\n",
      "335\n",
      "336\n",
      "337\n",
      "338\n",
      "339\n",
      "340\n",
      "341\n",
      "342\n",
      "343\n",
      "344\n",
      "345\n",
      "346\n",
      "347\n",
      "348\n",
      "349\n",
      "350\n",
      "351\n",
      "352\n",
      "353\n",
      "354\n",
      "355\n",
      "356\n",
      "357\n",
      "358\n",
      "359\n",
      "360\n",
      "361\n",
      "362\n",
      "363\n",
      "364\n",
      "365\n",
      "366\n",
      "367\n",
      "368\n",
      "369\n",
      "370\n",
      "371\n",
      "372\n",
      "373\n",
      "374\n",
      "375\n",
      "376\n",
      "377\n",
      "378\n",
      "379\n",
      "380\n",
      "381\n",
      "382\n",
      "383\n",
      "384\n",
      "385\n",
      "386\n",
      "387\n",
      "388\n",
      "389\n",
      "390\n",
      "391\n",
      "392\n",
      "393\n",
      "394\n",
      "395\n",
      "396\n",
      "397\n",
      "398\n",
      "399\n",
      "400\n",
      "401\n",
      "402\n",
      "403\n",
      "404\n",
      "405\n",
      "406\n",
      "407\n",
      "408\n",
      "409\n",
      "410\n",
      "411\n",
      "412\n",
      "413\n",
      "414\n",
      "415\n",
      "416\n",
      "417\n",
      "418\n",
      "419\n",
      "420\n",
      "421\n",
      "422\n",
      "423\n",
      "424\n",
      "425\n",
      "426\n",
      "427\n",
      "428\n",
      "429\n",
      "430\n",
      "431\n",
      "432\n",
      "433\n",
      "434\n",
      "435\n",
      "436\n",
      "437\n",
      "438\n",
      "439\n",
      "440\n",
      "441\n",
      "442\n",
      "443\n",
      "444\n",
      "445\n",
      "446\n",
      "447\n",
      "448\n",
      "449\n",
      "450\n",
      "451\n",
      "452\n",
      "453\n",
      "454\n",
      "455\n",
      "456\n",
      "457\n",
      "458\n",
      "459\n",
      "460\n",
      "461\n",
      "462\n",
      "463\n",
      "464\n",
      "465\n",
      "466\n",
      "467\n",
      "468\n",
      "469\n",
      "470\n",
      "471\n",
      "472\n",
      "473\n",
      "474\n",
      "475\n",
      "476\n",
      "477\n",
      "478\n",
      "479\n",
      "480\n",
      "481\n",
      "482\n",
      "483\n",
      "484\n",
      "485\n",
      "486\n",
      "487\n",
      "488\n",
      "489\n",
      "490\n",
      "491\n",
      "492\n",
      "493\n",
      "494\n",
      "495\n",
      "496\n",
      "497\n",
      "498\n",
      "499\n",
      "500\n",
      "501\n",
      "502\n",
      "503\n",
      "504\n",
      "505\n",
      "506\n",
      "507\n",
      "508\n",
      "509\n",
      "510\n",
      "511\n",
      "512\n",
      "513\n",
      "514\n",
      "515\n",
      "516\n",
      "517\n",
      "518\n",
      "519\n",
      "520\n",
      "521\n",
      "522\n",
      "523\n",
      "524\n",
      "525\n",
      "526\n",
      "527\n",
      "528\n",
      "529\n",
      "530\n",
      "531\n",
      "532\n",
      "533\n",
      "534\n",
      "535\n",
      "536\n",
      "537\n",
      "538\n",
      "539\n",
      "540\n",
      "541\n",
      "542\n",
      "543\n",
      "544\n",
      "545\n",
      "546\n",
      "547\n",
      "548\n",
      "549\n",
      "550\n",
      "551\n",
      "552\n",
      "553\n",
      "554\n",
      "555\n",
      "556\n",
      "557\n",
      "558\n",
      "559\n",
      "560\n",
      "561\n",
      "562\n",
      "563\n",
      "564\n",
      "565\n",
      "566\n",
      "567\n",
      "568\n",
      "569\n",
      "570\n",
      "571\n",
      "572\n",
      "573\n",
      "574\n",
      "575\n",
      "576\n",
      "577\n",
      "578\n",
      "579\n",
      "580\n",
      "581\n",
      "582\n",
      "583\n",
      "584\n",
      "585\n",
      "586\n",
      "587\n",
      "588\n",
      "589\n",
      "590\n",
      "591\n",
      "592\n",
      "593\n",
      "594\n",
      "595\n",
      "596\n",
      "597\n",
      "598\n",
      "599\n"
     ]
    }
   ],
   "source": [
    "res = calculate_acc(my_bn_model, df_test_small, columns=targets, method='simple')"
   ]
  },
  {
   "cell_type": "code",
   "execution_count": 81,
   "metadata": {},
   "outputs": [],
   "source": [
    "from sklearn import metrics"
   ]
  },
  {
   "cell_type": "code",
   "execution_count": 103,
   "metadata": {},
   "outputs": [
    {
     "data": {
      "text/plain": [
       "{'AQI': 53.741, 'NO': 17.095, 'NOx': 30.698}"
      ]
     },
     "execution_count": 103,
     "metadata": {},
     "output_type": "execute_result"
    }
   ],
   "source": [
    "res[1]"
   ]
  },
  {
   "cell_type": "code",
   "execution_count": 87,
   "metadata": {},
   "outputs": [
    {
     "data": {
      "text/plain": [
       "87.26589555364511"
      ]
     },
     "execution_count": 87,
     "metadata": {},
     "output_type": "execute_result"
    }
   ],
   "source": [
    "metrics.mean_squared_error(res[2][0], res[3][0], squared=False)"
   ]
  },
  {
   "cell_type": "code",
   "execution_count": 91,
   "metadata": {},
   "outputs": [
    {
     "data": {
      "text/plain": [
       "42.4598010027365"
      ]
     },
     "execution_count": 91,
     "metadata": {},
     "output_type": "execute_result"
    }
   ],
   "source": [
    "np.array(res[2][2]).std()"
   ]
  },
  {
   "cell_type": "code",
   "execution_count": 98,
   "metadata": {},
   "outputs": [
    {
     "data": {
      "text/plain": [
       "AQI    87.267476\n",
       "NO     21.883739\n",
       "NOx    42.495228\n",
       "dtype: float64"
      ]
     },
     "execution_count": 98,
     "metadata": {},
     "output_type": "execute_result"
    }
   ],
   "source": [
    "df_test_small[targets].std()"
   ]
  },
  {
   "cell_type": "code",
   "execution_count": null,
   "metadata": {},
   "outputs": [],
   "source": []
  }
 ],
 "metadata": {
  "interpreter": {
   "hash": "a3c7d67743a3563bab7c0cf2bee6b0184e94f1e920ee5b954f95efcd1ef326f2"
  },
  "kernelspec": {
   "display_name": "Python 3.8.10 64-bit ('venv': venv)",
   "language": "python",
   "name": "python3"
  },
  "language_info": {
   "codemirror_mode": {
    "name": "ipython",
    "version": 3
   },
   "file_extension": ".py",
   "mimetype": "text/x-python",
   "name": "python",
   "nbconvert_exporter": "python",
   "pygments_lexer": "ipython3",
   "version": "3.8.10"
  },
  "orig_nbformat": 4
 },
 "nbformat": 4,
 "nbformat_minor": 2
}
